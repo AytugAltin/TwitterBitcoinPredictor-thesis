{
 "cells": [
  {
   "cell_type": "code",
   "execution_count": 1,
   "outputs": [],
   "source": [
    "import sys\n",
    "\n",
    "from matplotlib import pyplot as plt\n",
    "\n",
    "sys.path.append(\"..\")\n",
    "import datetime\n",
    "import pandas as pd\n",
    "import time\n",
    "import os\n",
    "import pickle\n",
    "from DataProcessing.DataGrouper import *\n",
    "from DataProcessing.DataGrouper import convert_to_datetime"
   ],
   "metadata": {
    "collapsed": false,
    "pycharm": {
     "name": "#%%\n"
    }
   }
  },
  {
   "cell_type": "markdown",
   "source": [
    "RAW FILES ANALYSES"
   ],
   "metadata": {
    "collapsed": false
   }
  },
  {
   "cell_type": "code",
   "execution_count": 2,
   "outputs": [],
   "source": [
    "root_path = \"../Data/2018-Weighted/classed/10 2018.csv\"\n",
    "try:\n",
    "    data = pd.read_csv(root_path, sep=\";\")\n",
    "except:\n",
    "    data = pd.read_csv(root_path, lineterminator=\"\\n\")"
   ],
   "metadata": {
    "collapsed": false,
    "pycharm": {
     "name": "#%%\n"
    }
   }
  },
  {
   "cell_type": "code",
   "execution_count": 3,
   "outputs": [
    {
     "data": {
      "text/plain": "(455971, 31)"
     },
     "execution_count": 3,
     "metadata": {},
     "output_type": "execute_result"
    }
   ],
   "source": [
    "data.shape"
   ],
   "metadata": {
    "collapsed": false,
    "pycharm": {
     "name": "#%%\n"
    }
   }
  },
  {
   "cell_type": "code",
   "execution_count": 8,
   "outputs": [],
   "source": [
    "start_date = datetime.datetime(2018, 10, 10, 0, 0, 0, 0, datetime.timezone.utc)\n",
    "end_date = datetime.datetime(2018, 10, 11, 0, 0, 0, 0, datetime.timezone.utc)\n",
    "\n",
    "data = convert_to_datetime(data, \"date\")\n",
    "data['date'] = data[\"date\"].dt.tz_localize(None)\n",
    "\n",
    "data_10 = data.loc[(data['date'] >= start_date.replace(tzinfo=None))\n",
    "                                & (data['date'] < end_date.replace(tzinfo=None))]\n",
    "collumns = ['date','username\\r',\"user_followers_count\",\"text\",'sent_neg', 'sent_neu', 'sent_pos',\n",
    "       'sent_compound\\r','like_count', 'reply_count', 'retweet_count']\n",
    "data_10_filt = data_10[collumns]\n",
    "\n",
    "start_date = datetime.datetime(2018, 10, 11, 0, 0, 0, 0, datetime.timezone.utc)\n",
    "end_date = datetime.datetime(2018, 10, 12, 0, 0, 0, 0, datetime.timezone.utc)\n",
    "data_11 = data.loc[(data['date'] >= start_date.replace(tzinfo=None))\n",
    "                                & (data['date'] < end_date.replace(tzinfo=None))]\n",
    "data_11_filt = data_11[collumns]"
   ],
   "metadata": {
    "collapsed": false,
    "pycharm": {
     "name": "#%%\n"
    }
   }
  },
  {
   "cell_type": "code",
   "execution_count": 11,
   "outputs": [
    {
     "data": {
      "text/plain": "333213867.0"
     },
     "execution_count": 11,
     "metadata": {},
     "output_type": "execute_result"
    }
   ],
   "source": [
    "data_10_filt[\"user_followers_count\"].sum()"
   ],
   "metadata": {
    "collapsed": false,
    "pycharm": {
     "name": "#%%\n"
    }
   }
  }
 ],
 "metadata": {
  "kernelspec": {
   "name": "pycharm-58ceeb16",
   "language": "python",
   "display_name": "PyCharm (PredictorApp)"
  },
  "language_info": {
   "codemirror_mode": {
    "name": "ipython",
    "version": 2
   },
   "file_extension": ".py",
   "mimetype": "text/x-python",
   "name": "python",
   "nbconvert_exporter": "python",
   "pygments_lexer": "ipython2",
   "version": "2.7.6"
  }
 },
 "nbformat": 4,
 "nbformat_minor": 0
}