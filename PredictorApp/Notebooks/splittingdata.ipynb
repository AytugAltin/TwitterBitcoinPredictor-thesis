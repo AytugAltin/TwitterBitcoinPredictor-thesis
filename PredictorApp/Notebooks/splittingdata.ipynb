{
 "cells": [
  {
   "cell_type": "code",
   "execution_count": 11,
   "outputs": [],
   "source": [
    "import pandas as pd\n",
    "from twarc.client2 import Twarc2\n",
    "from twarc.expansions import ensure_flattened\n",
    "import datetime\n",
    "from datetime import timedelta\n",
    "BEARER_TOKEN = \"AAAAAAAAAAAAAAAAAAAAAO7VSQEAAAAALfq73jFhl47nwiBn6%2F3mn7N3GKI%3DHZPyHabCpezT39mE7ftKb7jEZglPvjiGsb2549wyabH7PD0kDc\"\n",
    "\n",
    "\n",
    "twarc = Twarc2(bearer_token=BEARER_TOKEN)\n",
    "\n",
    "x = twarc.tweet_lookup(tweet_ids=[980595665268019201])"
   ],
   "metadata": {
    "collapsed": false,
    "pycharm": {
     "name": "#%%\n"
    }
   }
  },
  {
   "cell_type": "code",
   "execution_count": 12,
   "outputs": [
    {
     "name": "stdout",
     "output_type": "stream",
     "text": [
      "{'data': [{'conversation_id': '980595665268019201', 'reply_settings': 'everyone', 'author_id': '308222785', 'id': '980595665268019201', 'created_at': '2018-04-01T23:59:59.000Z', 'public_metrics': {'retweet_count': 0, 'reply_count': 1, 'like_count': 4, 'quote_count': 0}, 'lang': 'en', 'text': 'I checked the futures after China announced the latest tariffs and then told myself: “hey, it could be worse. I could be a bitcoin trader.“ real assets didn’t lose half their value in the last month', 'source': 'Twitter for iPhone', 'entities': {'annotations': [{'start': 28, 'end': 32, 'probability': 0.9555, 'type': 'Place', 'normalized_text': 'China'}]}, 'possibly_sensitive': False}], 'includes': {'users': [{'description': 'economist, 🇨🇳 research. this is for display purposes only. contact: robertmarchini1993 at gmail. \\U0001f9f8', 'verified': False, 'username': 'rhcm123', 'name': 'Robert Marchini', 'profile_image_url': 'https://pbs.twimg.com/profile_images/937783371429830656/h187gaHn_normal.jpg', 'url': 'https://t.co/eiUVbmeh52', 'public_metrics': {'followers_count': 1621, 'following_count': 1275, 'tweet_count': 542502, 'listed_count': 171}, 'pinned_tweet_id': '661200765831290881', 'location': 'New Jersey, mostly', 'id': '308222785', 'created_at': '2011-05-31T01:32:12.000Z', 'protected': False, 'entities': {'url': {'urls': [{'start': 0, 'end': 23, 'url': 'https://t.co/eiUVbmeh52', 'expanded_url': 'https://www.robertmarchini.net/', 'display_url': 'robertmarchini.net'}]}}}]}, '__twarc': {'url': 'https://api.twitter.com/2/tweets?expansions=author_id%2Cin_reply_to_user_id%2Creferenced_tweets.id%2Creferenced_tweets.id.author_id%2Centities.mentions.username%2Cattachments.poll_ids%2Cattachments.media_keys%2Cgeo.place_id&tweet.fields=attachments%2Cauthor_id%2Ccontext_annotations%2Cconversation_id%2Ccreated_at%2Centities%2Cgeo%2Cid%2Cin_reply_to_user_id%2Clang%2Cpublic_metrics%2Ctext%2Cpossibly_sensitive%2Creferenced_tweets%2Creply_settings%2Csource%2Cwithheld&user.fields=created_at%2Cdescription%2Centities%2Cid%2Clocation%2Cname%2Cpinned_tweet_id%2Cprofile_image_url%2Cprotected%2Cpublic_metrics%2Curl%2Cusername%2Cverified%2Cwithheld&media.fields=alt_text%2Cduration_ms%2Cheight%2Cmedia_key%2Cpreview_image_url%2Ctype%2Curl%2Cwidth%2Cpublic_metrics&poll.fields=duration_minutes%2Cend_datetime%2Cid%2Coptions%2Cvoting_status&place.fields=contained_within%2Ccountry%2Ccountry_code%2Cfull_name%2Cgeo%2Cid%2Cname%2Cplace_type&ids=980595665268019201', 'version': '2.8.0', 'retrieved_at': '2021-10-27T15:16:27+00:00'}}\n"
     ]
    }
   ],
   "source": [
    "for item in x:\n",
    "    print(item)"
   ],
   "metadata": {
    "collapsed": false,
    "pycharm": {
     "name": "#%%\n"
    }
   }
  }
 ],
 "metadata": {
  "kernelspec": {
   "name": "pycharm-58ceeb16",
   "language": "python",
   "display_name": "PyCharm (PredictorApp)"
  },
  "language_info": {
   "codemirror_mode": {
    "name": "ipython",
    "version": 3
   },
   "file_extension": ".py",
   "mimetype": "text/x-python",
   "name": "python",
   "nbconvert_exporter": "python",
   "pygments_lexer": "ipython3",
   "version": "3.8.8"
  }
 },
 "nbformat": 4,
 "nbformat_minor": 1
}