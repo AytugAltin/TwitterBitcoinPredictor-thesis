{
 "cells": [
  {
   "cell_type": "code",
   "execution_count": 1,
   "metadata": {
    "collapsed": true
   },
   "outputs": [],
   "source": [
    "import datetime\n",
    "import pandas as pd\n",
    "import os\n",
    "\n",
    "\n",
    "#!pip install matplotlib\n",
    "import matplotlib.pyplot as plt\n",
    "\n",
    "start_date = datetime.datetime(2018, 2, 1, 0, 0, 0, 0, datetime.timezone.utc)\n",
    "end_date = datetime.datetime(2018, 3, 1, 23, 0, 0, 0, datetime.timezone.utc)\n",
    "\n",
    "filelist = [\"../raw_data/TweetsBTC_16mil/tweets.csv\",\n",
    "            ]"
   ]
  },
  {
   "cell_type": "code",
   "execution_count": 2,
   "outputs": [
    {
     "name": "stdout",
     "output_type": "stream",
     "text": [
      "sep\n"
     ]
    },
    {
     "data": {
      "text/plain": "<Figure size 432x288 with 1 Axes>",
      "image/png": "[encoded data removed]"
     },
     "metadata": {
      "needs_background": "light"
     },
     "output_type": "display_data"
    },
    {
     "name": "stdout",
     "output_type": "stream",
     "text": [
      "../raw_data/TweetsBTC_16mil/tweets.csv\n",
      "(100000, 9)\n"
     ]
    }
   ],
   "source": [
    "for file_path in filelist:\n",
    "    try:\n",
    "        df_chunk = pd.read_csv(file_path, sep=';', chunksize=100000)\n",
    "        print(\"sep\")\n",
    "    except:\n",
    "        df_chunk = pd.read_csv(file_path, lineterminator=\"\\n\")\n",
    "        print(\"lineterminator\")\n",
    "\n",
    "    for volume_data in df_chunk:\n",
    "        volume_data[\"date\"] = volume_data[\"timestamp\"]\n",
    "        volume_data = volume_data.sort_values(by='date')\n",
    "\n",
    "        try:\n",
    "            volume_data['date'] = pd.to_datetime(volume_data['date'], format='%d/%m/%Y %H:%M:%S')\n",
    "        except:\n",
    "            try:\n",
    "                volume_data['date'] = pd.to_datetime(volume_data['date'], format='%d/%m/%Y %H:%M')\n",
    "            except:\n",
    "                volume_data['date'] = pd.to_datetime(volume_data['date'], format='%Y-%m-%d %H:%M:%S')\n",
    "\n",
    "        volume_data = volume_data.dropna(subset=['date'])\n",
    "        volume_data['date'] = volume_data[\"date\"].dt.tz_localize(None)\n",
    "        volume_data = volume_data.set_index(\"date\")\n",
    "\n",
    "        grouped_data = volume_data.groupby(pd.Grouper(freq=\"60Min\")).size().reset_index(name='tweet_vol')\n",
    "        plt.close()\n",
    "        grouped_data.plot(x='date')\n",
    "        plt.show()\n",
    "\n",
    "        print(file_path)\n",
    "        print(volume_data.shape)\n",
    "        break\n"
   ],
   "metadata": {
    "collapsed": false,
    "pycharm": {
     "name": "#%%\n"
    }
   }
  },
  {
   "cell_type": "code",
   "execution_count": 5,
   "outputs": [],
   "source": [
    "import datetime\n",
    "import pandas as pd\n",
    "import os\n",
    "\n",
    "#!pip install matplotlib\n",
    "import matplotlib.pyplot as plt\n",
    "\n",
    "start_date = datetime.datetime(2018, 2, 1, 0, 0, 0, 0, datetime.timezone.utc)\n",
    "end_date = datetime.datetime(2018, 3, 1, 23, 0, 0, 0, datetime.timezone.utc)\n",
    "\n",
    "filelist = [\"../raw_data/2021/Bitcoin_tweets.csv\",\n",
    "            ]"
   ],
   "metadata": {
    "collapsed": false,
    "pycharm": {
     "name": "#%%\n"
    }
   }
  },
  {
   "cell_type": "code",
   "execution_count": 6,
   "outputs": [
    {
     "name": "stderr",
     "output_type": "stream",
     "text": [
      "C:\\ProgramData\\Anaconda3\\envs\\tensorflow1\\lib\\site-packages\\IPython\\core\\interactiveshell.py:3072: DtypeWarning: Columns (1,2,3,5,6,7,8,9,10,11,12) have mixed types.Specify dtype option on import or set low_memory=False.\n",
      "  interactivity=interactivity, compiler=compiler, result=result)\n"
     ]
    },
    {
     "name": "stdout",
     "output_type": "stream",
     "text": [
      "sep\n"
     ]
    },
    {
     "data": {
      "text/plain": "<Figure size 432x288 with 1 Axes>",
      "image/png": "[encoded data removed]"
     },
     "metadata": {
      "needs_background": "light"
     },
     "output_type": "display_data"
    },
    {
     "name": "stdout",
     "output_type": "stream",
     "text": [
      "../raw_data/2021/Bitcoin_tweets.csv\n",
      "(1513416, 12)\n"
     ]
    }
   ],
   "source": [
    "for file_path in filelist:\n",
    "    try:\n",
    "        volume_data = pd.read_csv(file_path, delimiter=',')\n",
    "        print(\"sep\")\n",
    "    except:\n",
    "        volume_data = pd.read_csv(file_path, lineterminator=\"\\n\")\n",
    "        print(\"lineterminator\")\n",
    "\n",
    "\n",
    "    volume_data = volume_data.sort_values(by='date')\n",
    "\n",
    "    try:\n",
    "        volume_data['date'] = pd.to_datetime(volume_data['date'], format='%d/%m/%Y %H:%M:%S')\n",
    "    except:\n",
    "        try:\n",
    "            volume_data['date'] = pd.to_datetime(volume_data['date'], format='%d/%m/%Y %H:%M')\n",
    "        except:\n",
    "            volume_data['date'] = pd.to_datetime(volume_data['date'], format='%Y-%m-%d %H:%M:%S', errors='coerce')\n",
    "\n",
    "    volume_data = volume_data.dropna(subset=['date'])\n",
    "    volume_data['date'] = volume_data[\"date\"].dt.tz_localize(None)\n",
    "    volume_data = volume_data.set_index(\"date\")\n",
    "\n",
    "    grouped_data = volume_data.groupby(pd.Grouper(freq=\"60Min\")).size().reset_index(name='tweet_vol')\n",
    "    plt.close()\n",
    "    grouped_data.plot(x='date')\n",
    "    plt.show()\n",
    "\n",
    "    print(file_path)\n",
    "    print(volume_data.shape)\n",
    "\n"
   ],
   "metadata": {
    "collapsed": false,
    "pycharm": {
     "name": "#%%\n"
    }
   }
  }
 ],
 "metadata": {
  "kernelspec": {
   "name": "pycharm-58ceeb16",
   "language": "python",
   "display_name": "PyCharm (PredictorApp)"
  },
  "language_info": {
   "codemirror_mode": {
    "name": "ipython",
    "version": 2
   },
   "file_extension": ".py",
   "mimetype": "text/x-python",
   "name": "python",
   "nbconvert_exporter": "python",
   "pygments_lexer": "ipython2",
   "version": "2.7.6"
  }
 },
 "nbformat": 4,
 "nbformat_minor": 0
}