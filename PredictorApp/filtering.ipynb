{
 "cells": [
  {
   "cell_type": "code",
   "execution_count": 19,
   "metadata": {
    "collapsed": true
   },
   "outputs": [],
   "source": [
    "import pandas as pd\n",
    "import datetime\n",
    "from dateutil import parser"
   ]
  },
  {
   "cell_type": "code",
   "execution_count": 58,
   "outputs": [
    {
     "data": {
      "text/plain": "                       date                                               text\n571879  2021-09-10 23:58:46  @SecYellen #Bitcoin is a violation of THIS htt...\n571878  2021-09-10 23:59:00  Candle of day 10/09/2021 closed.\\n\\nOpen: $ 46...\n571877  2021-09-10 23:59:05  4 hour top movers report #blockchain #crypto #...\n571876  2021-09-10 23:59:06  @airdropinspect Great project with fantastic t...\n571875  2021-09-10 23:59:48  @USTreasury #Bitcoin is a violation of THIS ht...",
      "text/html": "<div>\n<style scoped>\n    .dataframe tbody tr th:only-of-type {\n        vertical-align: middle;\n    }\n\n    .dataframe tbody tr th {\n        vertical-align: top;\n    }\n\n    .dataframe thead th {\n        text-align: right;\n    }\n</style>\n<table border=\"1\" class=\"dataframe\">\n  <thead>\n    <tr style=\"text-align: right;\">\n      <th></th>\n      <th>date</th>\n      <th>text</th>\n    </tr>\n  </thead>\n  <tbody>\n    <tr>\n      <th>571879</th>\n      <td>2021-09-10 23:58:46</td>\n      <td>@SecYellen #Bitcoin is a violation of THIS htt...</td>\n    </tr>\n    <tr>\n      <th>571878</th>\n      <td>2021-09-10 23:59:00</td>\n      <td>Candle of day 10/09/2021 closed.\\n\\nOpen: $ 46...</td>\n    </tr>\n    <tr>\n      <th>571877</th>\n      <td>2021-09-10 23:59:05</td>\n      <td>4 hour top movers report #blockchain #crypto #...</td>\n    </tr>\n    <tr>\n      <th>571876</th>\n      <td>2021-09-10 23:59:06</td>\n      <td>@airdropinspect Great project with fantastic t...</td>\n    </tr>\n    <tr>\n      <th>571875</th>\n      <td>2021-09-10 23:59:48</td>\n      <td>@USTreasury #Bitcoin is a violation of THIS ht...</td>\n    </tr>\n  </tbody>\n</table>\n</div>"
     },
     "execution_count": 58,
     "metadata": {},
     "output_type": "execute_result"
    }
   ],
   "source": [
    "data = pd.read_csv(\"data/2021/Bitcoin_tweets_en_filtered.csv\")\n",
    "data = data.sort_values(by='date')\n",
    "data[[\"date\",\"text\"]].tail()"
   ],
   "metadata": {
    "collapsed": false,
    "pycharm": {
     "name": "#%%\n"
    }
   }
  },
  {
   "cell_type": "code",
   "execution_count": 61,
   "outputs": [],
   "source": [
    "start_date = datetime.datetime(2021, 2, 6, 0, 0, 0, 0)\n",
    "end_date = datetime.datetime(2021, 9, 10, 0, 0, 0, 0)\n",
    "\n",
    "tweets_data = pd.read_csv(\"data/2021/Bitcoin_tweets_en_filtered.csv\")\n",
    "tweets_data = tweets_data.sort_values(by='date')\n",
    "tweets_data['date'] = pd.to_datetime(tweets_data['date'])\n",
    "\n",
    "tweets_data = tweets_data.loc[\n",
    "    (tweets_data['date']>= start_date) &\n",
    "    (tweets_data['date'] <= end_date)]"
   ],
   "metadata": {
    "collapsed": false,
    "pycharm": {
     "name": "#%%\n"
    }
   }
  },
  {
   "cell_type": "code",
   "execution_count": 55,
   "outputs": [
    {
     "data": {
      "text/plain": "datetime.datetime(2021, 8, 26, 23, 59, 27)"
     },
     "execution_count": 55,
     "metadata": {},
     "output_type": "execute_result"
    }
   ],
   "source": [
    "tweets_data.tail()"
   ],
   "metadata": {
    "collapsed": false,
    "pycharm": {
     "name": "#%%\n"
    }
   }
  }
 ],
 "metadata": {
  "kernelspec": {
   "name": "pycharm-58ceeb16",
   "language": "python",
   "display_name": "PyCharm (PredictorApp)"
  },
  "language_info": {
   "codemirror_mode": {
    "name": "ipython",
    "version": 2
   },
   "file_extension": ".py",
   "mimetype": "text/x-python",
   "name": "python",
   "nbconvert_exporter": "python",
   "pygments_lexer": "ipython2",
   "version": "2.7.6"
  }
 },
 "nbformat": 4,
 "nbformat_minor": 0
}