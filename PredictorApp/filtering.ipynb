{
 "cells": [
  {
   "cell_type": "code",
   "execution_count": 43,
   "metadata": {
    "collapsed": true
   },
   "outputs": [
    {
     "name": "stdout",
     "output_type": "stream",
     "text": [
      "Collecting contractions\n",
      "  Downloading contractions-0.0.52-py2.py3-none-any.whl (7.2 kB)\n",
      "Collecting textsearch>=0.0.21\n",
      "  Downloading textsearch-0.0.21-py2.py3-none-any.whl (7.5 kB)\n",
      "Collecting anyascii\n",
      "  Downloading anyascii-0.3.0-py3-none-any.whl (284 kB)\n",
      "Collecting pyahocorasick\n",
      "  Downloading pyahocorasick-1.4.2.tar.gz (321 kB)\n",
      "Building wheels for collected packages: pyahocorasick\n",
      "  Building wheel for pyahocorasick (setup.py): started\n",
      "  Building wheel for pyahocorasick (setup.py): finished with status 'done'\n",
      "  Created wheel for pyahocorasick: filename=pyahocorasick-1.4.2-cp39-cp39-win_amd64.whl size=39097 sha256=5e1ff589c4ee5ff3b06099d74ea1f716820e1769891d65b220904dc8a86d3ab8\n",
      "  Stored in directory: c:\\users\\aytug\\appdata\\local\\pip\\cache\\wheels\\5a\\8d\\a7\\feca10647134e95aeacccb3d0355af95ee0a0ede7549f9d794\n",
      "Successfully built pyahocorasick\n",
      "Installing collected packages: pyahocorasick, anyascii, textsearch, contractions\n",
      "Successfully installed anyascii-0.3.0 contractions-0.0.52 pyahocorasick-1.4.2 textsearch-0.0.21\n"
     ]
    },
    {
     "ename": "ModuleNotFoundError",
     "evalue": "No module named 'contractions'",
     "output_type": "error",
     "traceback": [
      "\u001B[1;31m---------------------------------------------------------------------------\u001B[0m",
      "\u001B[1;31mModuleNotFoundError\u001B[0m                       Traceback (most recent call last)",
      "\u001B[1;32m~\\AppData\\Local\\Temp/ipykernel_10608/3583686390.py\u001B[0m in \u001B[0;36m<module>\u001B[1;34m\u001B[0m\n\u001B[0;32m      1\u001B[0m \u001B[0mget_ipython\u001B[0m\u001B[1;33m(\u001B[0m\u001B[1;33m)\u001B[0m\u001B[1;33m.\u001B[0m\u001B[0msystem\u001B[0m\u001B[1;33m(\u001B[0m\u001B[1;34m'pip install contractions'\u001B[0m\u001B[1;33m)\u001B[0m\u001B[1;33m\u001B[0m\u001B[1;33m\u001B[0m\u001B[0m\n\u001B[1;32m----> 2\u001B[1;33m \u001B[1;32mimport\u001B[0m \u001B[0mcontractions\u001B[0m \u001B[1;32mas\u001B[0m \u001B[0mcontractions\u001B[0m\u001B[1;33m\u001B[0m\u001B[1;33m\u001B[0m\u001B[0m\n\u001B[0m\u001B[0;32m      3\u001B[0m \u001B[1;32mimport\u001B[0m \u001B[0mnumpy\u001B[0m \u001B[1;32mas\u001B[0m \u001B[0mnp\u001B[0m\u001B[1;33m\u001B[0m\u001B[1;33m\u001B[0m\u001B[0m\n\u001B[0;32m      4\u001B[0m \u001B[1;32mimport\u001B[0m \u001B[0mpandas\u001B[0m \u001B[1;32mas\u001B[0m \u001B[0mpd\u001B[0m\u001B[1;33m\u001B[0m\u001B[1;33m\u001B[0m\u001B[0m\n\u001B[0;32m      5\u001B[0m \u001B[1;32mfrom\u001B[0m \u001B[0mtime\u001B[0m \u001B[1;32mimport\u001B[0m \u001B[0mtime\u001B[0m\u001B[1;33m\u001B[0m\u001B[1;33m\u001B[0m\u001B[0m\n",
      "\u001B[1;31mModuleNotFoundError\u001B[0m: No module named 'contractions'"
     ]
    }
   ],
   "source": [
    "!pip install contractions\n",
    "import contractions as contractions\n",
    "import numpy as np\n",
    "import pandas as pd\n",
    "from time import time\n",
    "import pandas as pd\n",
    "import numpy as np\n",
    "import re\n",
    "import sys\n",
    "import csv"
   ]
  },
  {
   "cell_type": "code",
   "execution_count": 10,
   "outputs": [],
   "source": [
    "data = pd.read_csv(\"data/TweetsBTC_16mil/english/\" + \"16_en.csv\", lineterminator='\\n')\n",
    "data.head()\n",
    "data.dropna(how='any', inplace=True)"
   ],
   "metadata": {
    "collapsed": false,
    "pycharm": {
     "name": "#%%\n"
    }
   }
  },
  {
   "cell_type": "code",
   "execution_count": 54,
   "outputs": [
    {
     "data": {
      "text/plain": "114208"
     },
     "execution_count": 54,
     "metadata": {},
     "output_type": "execute_result"
    }
   ],
   "source": [
    "(data['text'].str.contains('btc|bitcoin')).sum()"
   ],
   "metadata": {
    "collapsed": false,
    "pycharm": {
     "name": "#%%\n"
    }
   }
  },
  {
   "cell_type": "code",
   "execution_count": 52,
   "outputs": [
    {
     "data": {
      "text/plain": "98597"
     },
     "execution_count": 52,
     "metadata": {},
     "output_type": "execute_result"
    }
   ],
   "source": [
    "(~data['text'].str.contains('btc|bitcoin')).sum()"
   ],
   "metadata": {
    "collapsed": false,
    "pycharm": {
     "name": "#%%\n"
    }
   }
  },
  {
   "cell_type": "code",
   "execution_count": 24,
   "outputs": [
    {
     "data": {
      "text/plain": "154040"
     },
     "execution_count": 24,
     "metadata": {},
     "output_type": "execute_result"
    }
   ],
   "source": [
    "data['text'].str.contains('#').sum()"
   ],
   "metadata": {
    "collapsed": false,
    "pycharm": {
     "name": "#%%\n"
    }
   }
  },
  {
   "cell_type": "code",
   "execution_count": 29,
   "outputs": [
    {
     "data": {
      "text/plain": "        Unnamed: 0       date            id          user          fullname  \\\n15639        16608 2016-01-30  6.933429e+17      BTCtoUSD  Bitcoin to USD $   \n137684      169422 2016-08-11  7.636312e+17  MonetaryUnit      MonetaryUnit   \n143761      177697 2016-09-01  7.712865e+17   kobocoindev          Kobocoin   \n6067          6439 2016-01-11  6.866506e+17   ProjectCoin      Project Coin   \n5939          6305 2016-01-11  6.865785e+17      BTCtoEUR  Bitcoin to EUR €   \n\n                                            url               timestamp  \\\n15639       /BTCtoUSD/status/693342911820337152  2016-01-30 07:00:06+00   \n137684  /MonetaryUnit/status/763631187394826240  2016-08-11 05:00:37+00   \n143761   /kobocoindev/status/771286510830284801  2016-09-01 08:00:08+00   \n6067     /ProjectCoin/status/686650592958255104  2016-01-11 19:47:13+00   \n5939        /BTCtoEUR/status/686578478049824769  2016-01-11 15:00:39+00   \n\n        replies  likes  retweets  \\\n15639         0      0         0   \n137684        0      0         0   \n143761        0      0         0   \n6067          0      0         0   \n5939          0      0         0   \n\n                                                     text lang  year  month  \\\n15639   Current price: 378.5$ $BTCUSD $btc #bitcoin 20...   en  2016      1   \n137684  1 MUE Price: Bittrex 0.00000064 BTC YoBit 0.00...   en  2016      8   \n143761  1 KOBO = 0.00000300 BTC \\n = 0.0017 USD \\n = 0...   en  2016      9   \n6067    LIVE: Profit = $739.44 (8.80 %). BUY B20.40 @ ...   en  2016      1   \n5939    Current price: 408.98€ $BTCEUR $btc #bitcoin 2...   en  2016      1   \n\n        day  \n15639    30  \n137684   11  \n143761    1  \n6067     11  \n5939     11  ",
      "text/html": "<div>\n<style scoped>\n    .dataframe tbody tr th:only-of-type {\n        vertical-align: middle;\n    }\n\n    .dataframe tbody tr th {\n        vertical-align: top;\n    }\n\n    .dataframe thead th {\n        text-align: right;\n    }\n</style>\n<table border=\"1\" class=\"dataframe\">\n  <thead>\n    <tr style=\"text-align: right;\">\n      <th></th>\n      <th>Unnamed: 0</th>\n      <th>date</th>\n      <th>id</th>\n      <th>user</th>\n      <th>fullname</th>\n      <th>url</th>\n      <th>timestamp</th>\n      <th>replies</th>\n      <th>likes</th>\n      <th>retweets</th>\n      <th>text</th>\n      <th>lang</th>\n      <th>year</th>\n      <th>month</th>\n      <th>day</th>\n    </tr>\n  </thead>\n  <tbody>\n    <tr>\n      <th>15639</th>\n      <td>16608</td>\n      <td>2016-01-30</td>\n      <td>6.933429e+17</td>\n      <td>BTCtoUSD</td>\n      <td>Bitcoin to USD $</td>\n      <td>/BTCtoUSD/status/693342911820337152</td>\n      <td>2016-01-30 07:00:06+00</td>\n      <td>0</td>\n      <td>0</td>\n      <td>0</td>\n      <td>Current price: 378.5$ $BTCUSD $btc #bitcoin 20...</td>\n      <td>en</td>\n      <td>2016</td>\n      <td>1</td>\n      <td>30</td>\n    </tr>\n    <tr>\n      <th>137684</th>\n      <td>169422</td>\n      <td>2016-08-11</td>\n      <td>7.636312e+17</td>\n      <td>MonetaryUnit</td>\n      <td>MonetaryUnit</td>\n      <td>/MonetaryUnit/status/763631187394826240</td>\n      <td>2016-08-11 05:00:37+00</td>\n      <td>0</td>\n      <td>0</td>\n      <td>0</td>\n      <td>1 MUE Price: Bittrex 0.00000064 BTC YoBit 0.00...</td>\n      <td>en</td>\n      <td>2016</td>\n      <td>8</td>\n      <td>11</td>\n    </tr>\n    <tr>\n      <th>143761</th>\n      <td>177697</td>\n      <td>2016-09-01</td>\n      <td>7.712865e+17</td>\n      <td>kobocoindev</td>\n      <td>Kobocoin</td>\n      <td>/kobocoindev/status/771286510830284801</td>\n      <td>2016-09-01 08:00:08+00</td>\n      <td>0</td>\n      <td>0</td>\n      <td>0</td>\n      <td>1 KOBO = 0.00000300 BTC \\n = 0.0017 USD \\n = 0...</td>\n      <td>en</td>\n      <td>2016</td>\n      <td>9</td>\n      <td>1</td>\n    </tr>\n    <tr>\n      <th>6067</th>\n      <td>6439</td>\n      <td>2016-01-11</td>\n      <td>6.866506e+17</td>\n      <td>ProjectCoin</td>\n      <td>Project Coin</td>\n      <td>/ProjectCoin/status/686650592958255104</td>\n      <td>2016-01-11 19:47:13+00</td>\n      <td>0</td>\n      <td>0</td>\n      <td>0</td>\n      <td>LIVE: Profit = $739.44 (8.80 %). BUY B20.40 @ ...</td>\n      <td>en</td>\n      <td>2016</td>\n      <td>1</td>\n      <td>11</td>\n    </tr>\n    <tr>\n      <th>5939</th>\n      <td>6305</td>\n      <td>2016-01-11</td>\n      <td>6.865785e+17</td>\n      <td>BTCtoEUR</td>\n      <td>Bitcoin to EUR €</td>\n      <td>/BTCtoEUR/status/686578478049824769</td>\n      <td>2016-01-11 15:00:39+00</td>\n      <td>0</td>\n      <td>0</td>\n      <td>0</td>\n      <td>Current price: 408.98€ $BTCEUR $btc #bitcoin 2...</td>\n      <td>en</td>\n      <td>2016</td>\n      <td>1</td>\n      <td>11</td>\n    </tr>\n  </tbody>\n</table>\n</div>"
     },
     "execution_count": 29,
     "metadata": {},
     "output_type": "execute_result"
    }
   ],
   "source": [
    "from time import time\n",
    "data.date = pd.to_datetime(data['date'], format = '%Y-%m-%d')\n",
    "data['year'] = data['date'].dt.year\n",
    "data['month'] = data['date'].dt.month\n",
    "data['day'] = data['date'].dt.day\n",
    "data.sample(5)"
   ],
   "metadata": {
    "collapsed": false,
    "pycharm": {
     "name": "#%%\n"
    }
   }
  },
  {
   "cell_type": "code",
   "execution_count": 31,
   "outputs": [
    {
     "data": {
      "text/plain": "        Unnamed: 0            id  replies  likes  retweets       year      day\nmonth                                                                         \n1        143812053  1.133863e+22       45    658      5186   33217632   254668\n2       2986353645  3.953563e+22     3676  18483     52632  113464512  1346139\n3       1618817016  1.165780e+22      102   1229      4291   33098688   261479\n4       1731738031  1.065781e+22      122   1207      3802   29792448   230080\n5       1614251006  8.832916e+21       74    995      2235   24323040   189844\n6       1688017143  8.450690e+21      130   1464      2216   22907808   189503\n7       1290045399  6.043653e+21       74    726      1582   16156224   124362\n8       1423529057  6.340548e+21      221   1330      1481   16686432   142927\n9       1355474691  5.783961e+21       57    735       666   15009120   121438\n10      1981385688  8.106431e+21      426   2815      1882   20738592   174516\n11      1523495620  5.995571e+21      109    889       851   15136128   113586\n12     10260862010  3.557313e+22     1445  21556     20164   88484256   789782",
      "text/html": "<div>\n<style scoped>\n    .dataframe tbody tr th:only-of-type {\n        vertical-align: middle;\n    }\n\n    .dataframe tbody tr th {\n        vertical-align: top;\n    }\n\n    .dataframe thead th {\n        text-align: right;\n    }\n</style>\n<table border=\"1\" class=\"dataframe\">\n  <thead>\n    <tr style=\"text-align: right;\">\n      <th></th>\n      <th>Unnamed: 0</th>\n      <th>id</th>\n      <th>replies</th>\n      <th>likes</th>\n      <th>retweets</th>\n      <th>year</th>\n      <th>day</th>\n    </tr>\n    <tr>\n      <th>month</th>\n      <th></th>\n      <th></th>\n      <th></th>\n      <th></th>\n      <th></th>\n      <th></th>\n      <th></th>\n    </tr>\n  </thead>\n  <tbody>\n    <tr>\n      <th>1</th>\n      <td>143812053</td>\n      <td>1.133863e+22</td>\n      <td>45</td>\n      <td>658</td>\n      <td>5186</td>\n      <td>33217632</td>\n      <td>254668</td>\n    </tr>\n    <tr>\n      <th>2</th>\n      <td>2986353645</td>\n      <td>3.953563e+22</td>\n      <td>3676</td>\n      <td>18483</td>\n      <td>52632</td>\n      <td>113464512</td>\n      <td>1346139</td>\n    </tr>\n    <tr>\n      <th>3</th>\n      <td>1618817016</td>\n      <td>1.165780e+22</td>\n      <td>102</td>\n      <td>1229</td>\n      <td>4291</td>\n      <td>33098688</td>\n      <td>261479</td>\n    </tr>\n    <tr>\n      <th>4</th>\n      <td>1731738031</td>\n      <td>1.065781e+22</td>\n      <td>122</td>\n      <td>1207</td>\n      <td>3802</td>\n      <td>29792448</td>\n      <td>230080</td>\n    </tr>\n    <tr>\n      <th>5</th>\n      <td>1614251006</td>\n      <td>8.832916e+21</td>\n      <td>74</td>\n      <td>995</td>\n      <td>2235</td>\n      <td>24323040</td>\n      <td>189844</td>\n    </tr>\n    <tr>\n      <th>6</th>\n      <td>1688017143</td>\n      <td>8.450690e+21</td>\n      <td>130</td>\n      <td>1464</td>\n      <td>2216</td>\n      <td>22907808</td>\n      <td>189503</td>\n    </tr>\n    <tr>\n      <th>7</th>\n      <td>1290045399</td>\n      <td>6.043653e+21</td>\n      <td>74</td>\n      <td>726</td>\n      <td>1582</td>\n      <td>16156224</td>\n      <td>124362</td>\n    </tr>\n    <tr>\n      <th>8</th>\n      <td>1423529057</td>\n      <td>6.340548e+21</td>\n      <td>221</td>\n      <td>1330</td>\n      <td>1481</td>\n      <td>16686432</td>\n      <td>142927</td>\n    </tr>\n    <tr>\n      <th>9</th>\n      <td>1355474691</td>\n      <td>5.783961e+21</td>\n      <td>57</td>\n      <td>735</td>\n      <td>666</td>\n      <td>15009120</td>\n      <td>121438</td>\n    </tr>\n    <tr>\n      <th>10</th>\n      <td>1981385688</td>\n      <td>8.106431e+21</td>\n      <td>426</td>\n      <td>2815</td>\n      <td>1882</td>\n      <td>20738592</td>\n      <td>174516</td>\n    </tr>\n    <tr>\n      <th>11</th>\n      <td>1523495620</td>\n      <td>5.995571e+21</td>\n      <td>109</td>\n      <td>889</td>\n      <td>851</td>\n      <td>15136128</td>\n      <td>113586</td>\n    </tr>\n    <tr>\n      <th>12</th>\n      <td>10260862010</td>\n      <td>3.557313e+22</td>\n      <td>1445</td>\n      <td>21556</td>\n      <td>20164</td>\n      <td>88484256</td>\n      <td>789782</td>\n    </tr>\n  </tbody>\n</table>\n</div>"
     },
     "execution_count": 31,
     "metadata": {},
     "output_type": "execute_result"
    }
   ],
   "source": [
    "data.groupby('month').sum()"
   ],
   "metadata": {
    "collapsed": false,
    "pycharm": {
     "name": "#%%\n"
    }
   }
  },
  {
   "cell_type": "code",
   "execution_count": 50,
   "outputs": [
    {
     "ename": "ModuleNotFoundError",
     "evalue": "No module named 'contractions'",
     "output_type": "error",
     "traceback": [
      "\u001B[1;31m---------------------------------------------------------------------------\u001B[0m",
      "\u001B[1;31mModuleNotFoundError\u001B[0m                       Traceback (most recent call last)",
      "\u001B[1;32m~\\AppData\\Local\\Temp/ipykernel_10608/2069434226.py\u001B[0m in \u001B[0;36m<module>\u001B[1;34m\u001B[0m\n\u001B[1;32m----> 1\u001B[1;33m \u001B[1;32mimport\u001B[0m \u001B[0mcontractions\u001B[0m \u001B[1;32mas\u001B[0m \u001B[0mcontractions\u001B[0m\u001B[1;33m\u001B[0m\u001B[1;33m\u001B[0m\u001B[0m\n\u001B[0m\u001B[0;32m      2\u001B[0m \u001B[0mdata\u001B[0m\u001B[1;33m[\u001B[0m\u001B[1;34m'text1'\u001B[0m\u001B[1;33m]\u001B[0m \u001B[1;33m=\u001B[0m \u001B[0mdata\u001B[0m\u001B[1;33m[\u001B[0m\u001B[1;34m'text'\u001B[0m\u001B[1;33m]\u001B[0m\u001B[1;33m.\u001B[0m\u001B[0mapply\u001B[0m\u001B[1;33m(\u001B[0m\u001B[1;32mlambda\u001B[0m \u001B[0mx\u001B[0m\u001B[1;33m:\u001B[0m \u001B[1;33m[\u001B[0m\u001B[0mcontractions\u001B[0m\u001B[1;33m.\u001B[0m\u001B[0mfix\u001B[0m\u001B[1;33m(\u001B[0m\u001B[0mword\u001B[0m\u001B[1;33m)\u001B[0m \u001B[1;32mfor\u001B[0m \u001B[0mword\u001B[0m \u001B[1;32min\u001B[0m \u001B[0mx\u001B[0m\u001B[1;33m.\u001B[0m\u001B[0msplit\u001B[0m\u001B[1;33m(\u001B[0m\u001B[1;33m)\u001B[0m\u001B[1;33m]\u001B[0m\u001B[1;33m)\u001B[0m\u001B[1;33m\u001B[0m\u001B[1;33m\u001B[0m\u001B[0m\n\u001B[0;32m      3\u001B[0m \u001B[1;33m\u001B[0m\u001B[0m\n\u001B[0;32m      4\u001B[0m \u001B[1;33m\u001B[0m\u001B[0m\n",
      "\u001B[1;31mModuleNotFoundError\u001B[0m: No module named 'contractions'"
     ]
    }
   ],
   "source": [
    "import contractions as contractions\n",
    "data['text1'] = data['text'].apply(lambda x: [contractions.fix(word) for word in x.split()])\n"
   ],
   "metadata": {
    "collapsed": false,
    "pycharm": {
     "name": "#%%\n"
    }
   }
  },
  {
   "cell_type": "code",
   "execution_count": 47,
   "outputs": [
    {
     "data": {
      "text/plain": "        Unnamed: 0       date            id          user  \\\n151913      187519 2016-10-04  7.831396e+17        btcusd   \n121320      148068 2016-06-16  7.435185e+17        fugoji   \n43991        52409 2016-02-27  7.035966e+17    Duane18400   \n93542       113484 2016-04-08  7.186044e+17      BTCtoUSD   \n53860        64645 2016-02-28  7.037614e+17  AltcoinsBank   \n\n                    fullname                                       url  \\\n151913  Bitstamp: BTC to USD                                             \n121320                fugoji                                             \n43991               علي مهدي                         http://10xbtc.com   \n93542       Bitcoin to USD $                                             \n53860       We Trust Bitcoin  https://valorbit.com http://cur.lv/vx868   \n\n                     timestamp  replies  likes  retweets  \\\n151913  2016-10-04 01:00:05+00        0      0         0   \n121320  2016-06-16 17:00:07+00        0      0         0   \n43991   2016-02-27 14:04:46+00        0      0         0   \n93542   2016-04-08 23:00:05+00        0      0         0   \n53860   2016-02-28 00:59:23+00        0      0         0   \n\n                                                     text lang  year  month  \\\n151913  $610.64 at 03:00 UTC [24h Range: $607.77 - $61...   en  2016     10   \n121320  1 KOBO = 0.00001888 BTC \\n = 0.0143 USD \\n = 2...   en  2016      6   \n43991   In the last hour, 7 people won 0.42 BTC playin...   en  2016      2   \n93542   Current price: 417.79$ $BTCUSD $btc #bitcoin 2...   en  2016      4   \n53860   Re: Valorbit  |  VAL |  https://valorbit.com  ...   en  2016      2   \n\n        day                                              text1  \n151913    4  $610.64 at 03:00 UTC [24h Range: $607.77 - $61...  \n121320   16  1 KOBO = 0.00001888 BTC \\n = 0.0143 USD \\n = 2...  \n43991    27  In the last hour, 7 people won 0.42 BTC playin...  \n93542     8  Current price: 417.79$ $BTCUSD $btc #bitcoin 2...  \n53860    28  Re: Valorbit  |  VAL |  https://valorbit.com  ...  ",
      "text/html": "<div>\n<style scoped>\n    .dataframe tbody tr th:only-of-type {\n        vertical-align: middle;\n    }\n\n    .dataframe tbody tr th {\n        vertical-align: top;\n    }\n\n    .dataframe thead th {\n        text-align: right;\n    }\n</style>\n<table border=\"1\" class=\"dataframe\">\n  <thead>\n    <tr style=\"text-align: right;\">\n      <th></th>\n      <th>Unnamed: 0</th>\n      <th>date</th>\n      <th>id</th>\n      <th>user</th>\n      <th>fullname</th>\n      <th>url</th>\n      <th>timestamp</th>\n      <th>replies</th>\n      <th>likes</th>\n      <th>retweets</th>\n      <th>text</th>\n      <th>lang</th>\n      <th>year</th>\n      <th>month</th>\n      <th>day</th>\n      <th>text1</th>\n    </tr>\n  </thead>\n  <tbody>\n    <tr>\n      <th>151913</th>\n      <td>187519</td>\n      <td>2016-10-04</td>\n      <td>7.831396e+17</td>\n      <td>btcusd</td>\n      <td>Bitstamp: BTC to USD</td>\n      <td></td>\n      <td>2016-10-04 01:00:05+00</td>\n      <td>0</td>\n      <td>0</td>\n      <td>0</td>\n      <td>$610.64 at 03:00 UTC [24h Range: $607.77 - $61...</td>\n      <td>en</td>\n      <td>2016</td>\n      <td>10</td>\n      <td>4</td>\n      <td>$610.64 at 03:00 UTC [24h Range: $607.77 - $61...</td>\n    </tr>\n    <tr>\n      <th>121320</th>\n      <td>148068</td>\n      <td>2016-06-16</td>\n      <td>7.435185e+17</td>\n      <td>fugoji</td>\n      <td>fugoji</td>\n      <td></td>\n      <td>2016-06-16 17:00:07+00</td>\n      <td>0</td>\n      <td>0</td>\n      <td>0</td>\n      <td>1 KOBO = 0.00001888 BTC \\n = 0.0143 USD \\n = 2...</td>\n      <td>en</td>\n      <td>2016</td>\n      <td>6</td>\n      <td>16</td>\n      <td>1 KOBO = 0.00001888 BTC \\n = 0.0143 USD \\n = 2...</td>\n    </tr>\n    <tr>\n      <th>43991</th>\n      <td>52409</td>\n      <td>2016-02-27</td>\n      <td>7.035966e+17</td>\n      <td>Duane18400</td>\n      <td>علي مهدي</td>\n      <td>http://10xbtc.com</td>\n      <td>2016-02-27 14:04:46+00</td>\n      <td>0</td>\n      <td>0</td>\n      <td>0</td>\n      <td>In the last hour, 7 people won 0.42 BTC playin...</td>\n      <td>en</td>\n      <td>2016</td>\n      <td>2</td>\n      <td>27</td>\n      <td>In the last hour, 7 people won 0.42 BTC playin...</td>\n    </tr>\n    <tr>\n      <th>93542</th>\n      <td>113484</td>\n      <td>2016-04-08</td>\n      <td>7.186044e+17</td>\n      <td>BTCtoUSD</td>\n      <td>Bitcoin to USD $</td>\n      <td></td>\n      <td>2016-04-08 23:00:05+00</td>\n      <td>0</td>\n      <td>0</td>\n      <td>0</td>\n      <td>Current price: 417.79$ $BTCUSD $btc #bitcoin 2...</td>\n      <td>en</td>\n      <td>2016</td>\n      <td>4</td>\n      <td>8</td>\n      <td>Current price: 417.79$ $BTCUSD $btc #bitcoin 2...</td>\n    </tr>\n    <tr>\n      <th>53860</th>\n      <td>64645</td>\n      <td>2016-02-28</td>\n      <td>7.037614e+17</td>\n      <td>AltcoinsBank</td>\n      <td>We Trust Bitcoin</td>\n      <td>https://valorbit.com http://cur.lv/vx868</td>\n      <td>2016-02-28 00:59:23+00</td>\n      <td>0</td>\n      <td>0</td>\n      <td>0</td>\n      <td>Re: Valorbit  |  VAL |  https://valorbit.com  ...</td>\n      <td>en</td>\n      <td>2016</td>\n      <td>2</td>\n      <td>28</td>\n      <td>Re: Valorbit  |  VAL |  https://valorbit.com  ...</td>\n    </tr>\n  </tbody>\n</table>\n</div>"
     },
     "execution_count": 47,
     "metadata": {},
     "output_type": "execute_result"
    }
   ],
   "source": [
    "data.sample(5)"
   ],
   "metadata": {
    "collapsed": false,
    "pycharm": {
     "name": "#%%\n"
    }
   }
  },
  {
   "cell_type": "code",
   "execution_count": 55,
   "outputs": [],
   "source": [
    "def get_url(x):\n",
    "    urls = re.findall('http[s]?://(?:[a-zA-Z]|[0-9]|[$-_@.&+]|[!*\\(\\),]|(?:%[0-9a-fA-F][0-9a-fA-F]))+', x)\n",
    "\n",
    "    if len(urls) == 0:\n",
    "        return ' '\n",
    "    else:\n",
    "        return urls\n",
    "\n",
    "\n",
    "def tag(x):\n",
    "    hashtag = set(part[1:] for part in x.split() if part.startswith('#'))\n",
    "\n",
    "    if len(hashtag) == 0:\n",
    "        return ' '\n",
    "    else:\n",
    "        return hashtag"
   ],
   "metadata": {
    "collapsed": false,
    "pycharm": {
     "name": "#%%\n"
    }
   }
  },
  {
   "cell_type": "code",
   "execution_count": 60,
   "outputs": [
    {
     "data": {
      "text/plain": "        Unnamed: 0  Unnamed: 0.1        date            id         user  \\\n128529      128529        157312  2016-07-05  7.504341e+17  kobocoindev   \n57610        57610         69464  2016-02-28  7.038353e+17      Bitcoin   \n67979        67979         82287  2016-02-28  7.040110e+17    krunox123   \n\n        fullname                                     url  \\\n128529  Kobocoin  /kobocoindev/status/750434088776036352   \n57610    Bitcoin      /Bitcoin/status/703835291644112896   \n67979     Krunox    /krunox123/status/704011015969705984   \n\n                     timestamp  replies  likes  retweets  \\\n128529  2016-07-05 19:00:03+00        0      0         0   \n57610   2016-02-28 05:53:04+00        0      5        14   \n67979   2016-02-28 17:31:20+00        0      0         0   \n\n                                                     text lang  \\\n128529  1 KOBO = 0.00001398 BTC \\n = 0.0093 USD \\n = 2...   en   \n57610   US Prosecutors Believe Ex-Secret Service Agent...   en   \n67979   Is this what DDOS traffic looks like? http://i...   en   \n\n                                                    text1  \n128529  1 KOBO = 0.00001398 BTC = 0.0093 USD = 2.6180 ...  \n57610   US Prosecutors Believe Ex-Secret Service Agent...  \n67979   Is this what DDOS traffic looks like? http://i...  ",
      "text/html": "<div>\n<style scoped>\n    .dataframe tbody tr th:only-of-type {\n        vertical-align: middle;\n    }\n\n    .dataframe tbody tr th {\n        vertical-align: top;\n    }\n\n    .dataframe thead th {\n        text-align: right;\n    }\n</style>\n<table border=\"1\" class=\"dataframe\">\n  <thead>\n    <tr style=\"text-align: right;\">\n      <th></th>\n      <th>Unnamed: 0</th>\n      <th>Unnamed: 0.1</th>\n      <th>date</th>\n      <th>id</th>\n      <th>user</th>\n      <th>fullname</th>\n      <th>url</th>\n      <th>timestamp</th>\n      <th>replies</th>\n      <th>likes</th>\n      <th>retweets</th>\n      <th>text</th>\n      <th>lang</th>\n      <th>text1</th>\n    </tr>\n  </thead>\n  <tbody>\n    <tr>\n      <th>128529</th>\n      <td>128529</td>\n      <td>157312</td>\n      <td>2016-07-05</td>\n      <td>7.504341e+17</td>\n      <td>kobocoindev</td>\n      <td>Kobocoin</td>\n      <td>/kobocoindev/status/750434088776036352</td>\n      <td>2016-07-05 19:00:03+00</td>\n      <td>0</td>\n      <td>0</td>\n      <td>0</td>\n      <td>1 KOBO = 0.00001398 BTC \\n = 0.0093 USD \\n = 2...</td>\n      <td>en</td>\n      <td>1 KOBO = 0.00001398 BTC = 0.0093 USD = 2.6180 ...</td>\n    </tr>\n    <tr>\n      <th>57610</th>\n      <td>57610</td>\n      <td>69464</td>\n      <td>2016-02-28</td>\n      <td>7.038353e+17</td>\n      <td>Bitcoin</td>\n      <td>Bitcoin</td>\n      <td>/Bitcoin/status/703835291644112896</td>\n      <td>2016-02-28 05:53:04+00</td>\n      <td>0</td>\n      <td>5</td>\n      <td>14</td>\n      <td>US Prosecutors Believe Ex-Secret Service Agent...</td>\n      <td>en</td>\n      <td>US Prosecutors Believe Ex-Secret Service Agent...</td>\n    </tr>\n    <tr>\n      <th>67979</th>\n      <td>67979</td>\n      <td>82287</td>\n      <td>2016-02-28</td>\n      <td>7.040110e+17</td>\n      <td>krunox123</td>\n      <td>Krunox</td>\n      <td>/krunox123/status/704011015969705984</td>\n      <td>2016-02-28 17:31:20+00</td>\n      <td>0</td>\n      <td>0</td>\n      <td>0</td>\n      <td>Is this what DDOS traffic looks like? http://i...</td>\n      <td>en</td>\n      <td>Is this what DDOS traffic looks like? http://i...</td>\n    </tr>\n  </tbody>\n</table>\n</div>"
     },
     "execution_count": 60,
     "metadata": {},
     "output_type": "execute_result"
    }
   ],
   "source": [
    "data = pd.read_csv(\"data/TweetsBTC_16mil/filtered/16_enfiltered.csv\", lineterminator='\\n')\n",
    "data.sample(3)"
   ],
   "metadata": {
    "collapsed": false,
    "pycharm": {
     "name": "#%%\n"
    }
   }
  },
  {
   "cell_type": "code",
   "execution_count": 62,
   "outputs": [
    {
     "ename": "TypeError",
     "evalue": "expected string or bytes-like object",
     "output_type": "error",
     "traceback": [
      "\u001B[1;31m---------------------------------------------------------------------------\u001B[0m",
      "\u001B[1;31mTypeError\u001B[0m                                 Traceback (most recent call last)",
      "\u001B[1;32m~\\AppData\\Local\\Temp/ipykernel_10608/1449322278.py\u001B[0m in \u001B[0;36m<module>\u001B[1;34m\u001B[0m\n\u001B[1;32m----> 1\u001B[1;33m \u001B[0mdata\u001B[0m\u001B[1;33m[\u001B[0m\u001B[1;34m'url'\u001B[0m\u001B[1;33m]\u001B[0m \u001B[1;33m=\u001B[0m \u001B[0mdata\u001B[0m\u001B[1;33m[\u001B[0m\u001B[1;34m'text1'\u001B[0m\u001B[1;33m]\u001B[0m\u001B[1;33m.\u001B[0m\u001B[0mapply\u001B[0m\u001B[1;33m(\u001B[0m\u001B[1;32mlambda\u001B[0m \u001B[0mx\u001B[0m\u001B[1;33m:\u001B[0m \u001B[0mget_url\u001B[0m\u001B[1;33m(\u001B[0m\u001B[0mx\u001B[0m\u001B[1;33m)\u001B[0m\u001B[1;33m)\u001B[0m\u001B[1;33m\u001B[0m\u001B[1;33m\u001B[0m\u001B[0m\n\u001B[0m\u001B[0;32m      2\u001B[0m \u001B[0mdata\u001B[0m\u001B[1;33m[\u001B[0m\u001B[1;34m'url'\u001B[0m\u001B[1;33m]\u001B[0m \u001B[1;33m=\u001B[0m \u001B[1;33m[\u001B[0m\u001B[1;34m' '\u001B[0m\u001B[1;33m.\u001B[0m\u001B[0mjoin\u001B[0m\u001B[1;33m(\u001B[0m\u001B[0mmap\u001B[0m\u001B[1;33m(\u001B[0m\u001B[0mstr\u001B[0m\u001B[1;33m,\u001B[0m \u001B[0ml\u001B[0m\u001B[1;33m)\u001B[0m\u001B[1;33m)\u001B[0m \u001B[1;32mfor\u001B[0m \u001B[0ml\u001B[0m \u001B[1;32min\u001B[0m \u001B[0mdata\u001B[0m\u001B[1;33m[\u001B[0m\u001B[1;34m'url'\u001B[0m\u001B[1;33m]\u001B[0m\u001B[1;33m]\u001B[0m\u001B[1;33m\u001B[0m\u001B[1;33m\u001B[0m\u001B[0m\n\u001B[0;32m      3\u001B[0m \u001B[0mdata\u001B[0m\u001B[1;33m.\u001B[0m\u001B[0msample\u001B[0m\u001B[1;33m(\u001B[0m\u001B[1;36m3\u001B[0m\u001B[1;33m)\u001B[0m\u001B[1;33m\u001B[0m\u001B[1;33m\u001B[0m\u001B[0m\n",
      "\u001B[1;32mB:\\SCHOOL\\MasterThesis\\PredictorApp\\venv\\lib\\site-packages\\pandas\\core\\series.py\u001B[0m in \u001B[0;36mapply\u001B[1;34m(self, func, convert_dtype, args, **kwargs)\u001B[0m\n\u001B[0;32m   4355\u001B[0m         \u001B[0mdtype\u001B[0m\u001B[1;33m:\u001B[0m \u001B[0mfloat64\u001B[0m\u001B[1;33m\u001B[0m\u001B[1;33m\u001B[0m\u001B[0m\n\u001B[0;32m   4356\u001B[0m         \"\"\"\n\u001B[1;32m-> 4357\u001B[1;33m         \u001B[1;32mreturn\u001B[0m \u001B[0mSeriesApply\u001B[0m\u001B[1;33m(\u001B[0m\u001B[0mself\u001B[0m\u001B[1;33m,\u001B[0m \u001B[0mfunc\u001B[0m\u001B[1;33m,\u001B[0m \u001B[0mconvert_dtype\u001B[0m\u001B[1;33m,\u001B[0m \u001B[0margs\u001B[0m\u001B[1;33m,\u001B[0m \u001B[0mkwargs\u001B[0m\u001B[1;33m)\u001B[0m\u001B[1;33m.\u001B[0m\u001B[0mapply\u001B[0m\u001B[1;33m(\u001B[0m\u001B[1;33m)\u001B[0m\u001B[1;33m\u001B[0m\u001B[1;33m\u001B[0m\u001B[0m\n\u001B[0m\u001B[0;32m   4358\u001B[0m \u001B[1;33m\u001B[0m\u001B[0m\n\u001B[0;32m   4359\u001B[0m     def _reduce(\n",
      "\u001B[1;32mB:\\SCHOOL\\MasterThesis\\PredictorApp\\venv\\lib\\site-packages\\pandas\\core\\apply.py\u001B[0m in \u001B[0;36mapply\u001B[1;34m(self)\u001B[0m\n\u001B[0;32m   1041\u001B[0m             \u001B[1;32mreturn\u001B[0m \u001B[0mself\u001B[0m\u001B[1;33m.\u001B[0m\u001B[0mapply_str\u001B[0m\u001B[1;33m(\u001B[0m\u001B[1;33m)\u001B[0m\u001B[1;33m\u001B[0m\u001B[1;33m\u001B[0m\u001B[0m\n\u001B[0;32m   1042\u001B[0m \u001B[1;33m\u001B[0m\u001B[0m\n\u001B[1;32m-> 1043\u001B[1;33m         \u001B[1;32mreturn\u001B[0m \u001B[0mself\u001B[0m\u001B[1;33m.\u001B[0m\u001B[0mapply_standard\u001B[0m\u001B[1;33m(\u001B[0m\u001B[1;33m)\u001B[0m\u001B[1;33m\u001B[0m\u001B[1;33m\u001B[0m\u001B[0m\n\u001B[0m\u001B[0;32m   1044\u001B[0m \u001B[1;33m\u001B[0m\u001B[0m\n\u001B[0;32m   1045\u001B[0m     \u001B[1;32mdef\u001B[0m \u001B[0magg\u001B[0m\u001B[1;33m(\u001B[0m\u001B[0mself\u001B[0m\u001B[1;33m)\u001B[0m\u001B[1;33m:\u001B[0m\u001B[1;33m\u001B[0m\u001B[1;33m\u001B[0m\u001B[0m\n",
      "\u001B[1;32mB:\\SCHOOL\\MasterThesis\\PredictorApp\\venv\\lib\\site-packages\\pandas\\core\\apply.py\u001B[0m in \u001B[0;36mapply_standard\u001B[1;34m(self)\u001B[0m\n\u001B[0;32m   1097\u001B[0m                 \u001B[1;31m# List[Union[Callable[..., Any], str]]]]]\"; expected\u001B[0m\u001B[1;33m\u001B[0m\u001B[1;33m\u001B[0m\u001B[1;33m\u001B[0m\u001B[0m\n\u001B[0;32m   1098\u001B[0m                 \u001B[1;31m# \"Callable[[Any], Any]\"\u001B[0m\u001B[1;33m\u001B[0m\u001B[1;33m\u001B[0m\u001B[1;33m\u001B[0m\u001B[0m\n\u001B[1;32m-> 1099\u001B[1;33m                 mapped = lib.map_infer(\n\u001B[0m\u001B[0;32m   1100\u001B[0m                     \u001B[0mvalues\u001B[0m\u001B[1;33m,\u001B[0m\u001B[1;33m\u001B[0m\u001B[1;33m\u001B[0m\u001B[0m\n\u001B[0;32m   1101\u001B[0m                     \u001B[0mf\u001B[0m\u001B[1;33m,\u001B[0m  \u001B[1;31m# type: ignore[arg-type]\u001B[0m\u001B[1;33m\u001B[0m\u001B[1;33m\u001B[0m\u001B[0m\n",
      "\u001B[1;32mB:\\SCHOOL\\MasterThesis\\PredictorApp\\venv\\lib\\site-packages\\pandas\\_libs\\lib.pyx\u001B[0m in \u001B[0;36mpandas._libs.lib.map_infer\u001B[1;34m()\u001B[0m\n",
      "\u001B[1;32m~\\AppData\\Local\\Temp/ipykernel_10608/1449322278.py\u001B[0m in \u001B[0;36m<lambda>\u001B[1;34m(x)\u001B[0m\n\u001B[1;32m----> 1\u001B[1;33m \u001B[0mdata\u001B[0m\u001B[1;33m[\u001B[0m\u001B[1;34m'url'\u001B[0m\u001B[1;33m]\u001B[0m \u001B[1;33m=\u001B[0m \u001B[0mdata\u001B[0m\u001B[1;33m[\u001B[0m\u001B[1;34m'text1'\u001B[0m\u001B[1;33m]\u001B[0m\u001B[1;33m.\u001B[0m\u001B[0mapply\u001B[0m\u001B[1;33m(\u001B[0m\u001B[1;32mlambda\u001B[0m \u001B[0mx\u001B[0m\u001B[1;33m:\u001B[0m \u001B[0mget_url\u001B[0m\u001B[1;33m(\u001B[0m\u001B[0mx\u001B[0m\u001B[1;33m)\u001B[0m\u001B[1;33m)\u001B[0m\u001B[1;33m\u001B[0m\u001B[1;33m\u001B[0m\u001B[0m\n\u001B[0m\u001B[0;32m      2\u001B[0m \u001B[0mdata\u001B[0m\u001B[1;33m[\u001B[0m\u001B[1;34m'url'\u001B[0m\u001B[1;33m]\u001B[0m \u001B[1;33m=\u001B[0m \u001B[1;33m[\u001B[0m\u001B[1;34m' '\u001B[0m\u001B[1;33m.\u001B[0m\u001B[0mjoin\u001B[0m\u001B[1;33m(\u001B[0m\u001B[0mmap\u001B[0m\u001B[1;33m(\u001B[0m\u001B[0mstr\u001B[0m\u001B[1;33m,\u001B[0m \u001B[0ml\u001B[0m\u001B[1;33m)\u001B[0m\u001B[1;33m)\u001B[0m \u001B[1;32mfor\u001B[0m \u001B[0ml\u001B[0m \u001B[1;32min\u001B[0m \u001B[0mdata\u001B[0m\u001B[1;33m[\u001B[0m\u001B[1;34m'url'\u001B[0m\u001B[1;33m]\u001B[0m\u001B[1;33m]\u001B[0m\u001B[1;33m\u001B[0m\u001B[1;33m\u001B[0m\u001B[0m\n\u001B[0;32m      3\u001B[0m \u001B[0mdata\u001B[0m\u001B[1;33m.\u001B[0m\u001B[0msample\u001B[0m\u001B[1;33m(\u001B[0m\u001B[1;36m3\u001B[0m\u001B[1;33m)\u001B[0m\u001B[1;33m\u001B[0m\u001B[1;33m\u001B[0m\u001B[0m\n",
      "\u001B[1;32m~\\AppData\\Local\\Temp/ipykernel_10608/627161225.py\u001B[0m in \u001B[0;36mget_url\u001B[1;34m(x)\u001B[0m\n\u001B[0;32m      1\u001B[0m \u001B[1;32mdef\u001B[0m \u001B[0mget_url\u001B[0m\u001B[1;33m(\u001B[0m\u001B[0mx\u001B[0m\u001B[1;33m)\u001B[0m\u001B[1;33m:\u001B[0m\u001B[1;33m\u001B[0m\u001B[1;33m\u001B[0m\u001B[0m\n\u001B[1;32m----> 2\u001B[1;33m     \u001B[0murls\u001B[0m \u001B[1;33m=\u001B[0m \u001B[0mre\u001B[0m\u001B[1;33m.\u001B[0m\u001B[0mfindall\u001B[0m\u001B[1;33m(\u001B[0m\u001B[1;34m'http[s]?://(?:[a-zA-Z]|[0-9]|[$-_@.&+]|[!*\\(\\),]|(?:%[0-9a-fA-F][0-9a-fA-F]))+'\u001B[0m\u001B[1;33m,\u001B[0m \u001B[0mx\u001B[0m\u001B[1;33m)\u001B[0m\u001B[1;33m\u001B[0m\u001B[1;33m\u001B[0m\u001B[0m\n\u001B[0m\u001B[0;32m      3\u001B[0m \u001B[1;33m\u001B[0m\u001B[0m\n\u001B[0;32m      4\u001B[0m     \u001B[1;32mif\u001B[0m \u001B[0mlen\u001B[0m\u001B[1;33m(\u001B[0m\u001B[0murls\u001B[0m\u001B[1;33m)\u001B[0m \u001B[1;33m==\u001B[0m \u001B[1;36m0\u001B[0m\u001B[1;33m:\u001B[0m\u001B[1;33m\u001B[0m\u001B[1;33m\u001B[0m\u001B[0m\n\u001B[0;32m      5\u001B[0m         \u001B[1;32mreturn\u001B[0m \u001B[1;34m' '\u001B[0m\u001B[1;33m\u001B[0m\u001B[1;33m\u001B[0m\u001B[0m\n",
      "\u001B[1;32m~\\AppData\\Local\\Programs\\Python\\Python38\\lib\\re.py\u001B[0m in \u001B[0;36mfindall\u001B[1;34m(pattern, string, flags)\u001B[0m\n\u001B[0;32m    239\u001B[0m \u001B[1;33m\u001B[0m\u001B[0m\n\u001B[0;32m    240\u001B[0m     Empty matches are included in the result.\"\"\"\n\u001B[1;32m--> 241\u001B[1;33m     \u001B[1;32mreturn\u001B[0m \u001B[0m_compile\u001B[0m\u001B[1;33m(\u001B[0m\u001B[0mpattern\u001B[0m\u001B[1;33m,\u001B[0m \u001B[0mflags\u001B[0m\u001B[1;33m)\u001B[0m\u001B[1;33m.\u001B[0m\u001B[0mfindall\u001B[0m\u001B[1;33m(\u001B[0m\u001B[0mstring\u001B[0m\u001B[1;33m)\u001B[0m\u001B[1;33m\u001B[0m\u001B[1;33m\u001B[0m\u001B[0m\n\u001B[0m\u001B[0;32m    242\u001B[0m \u001B[1;33m\u001B[0m\u001B[0m\n\u001B[0;32m    243\u001B[0m \u001B[1;32mdef\u001B[0m \u001B[0mfinditer\u001B[0m\u001B[1;33m(\u001B[0m\u001B[0mpattern\u001B[0m\u001B[1;33m,\u001B[0m \u001B[0mstring\u001B[0m\u001B[1;33m,\u001B[0m \u001B[0mflags\u001B[0m\u001B[1;33m=\u001B[0m\u001B[1;36m0\u001B[0m\u001B[1;33m)\u001B[0m\u001B[1;33m:\u001B[0m\u001B[1;33m\u001B[0m\u001B[1;33m\u001B[0m\u001B[0m\n",
      "\u001B[1;31mTypeError\u001B[0m: expected string or bytes-like object"
     ]
    }
   ],
   "source": [
    "data['url'] = data['text1'].apply(lambda x: get_url(x))\n",
    "data['url'] = [' '.join(map(str, l)) for l in data['url']]\n",
    "data.sample(3)"
   ],
   "metadata": {
    "collapsed": false,
    "pycharm": {
     "name": "#%%\n"
    }
   }
  },
  {
   "cell_type": "code",
   "execution_count": 61,
   "outputs": [
    {
     "ename": "AttributeError",
     "evalue": "'float' object has no attribute 'split'",
     "output_type": "error",
     "traceback": [
      "\u001B[1;31m---------------------------------------------------------------------------\u001B[0m",
      "\u001B[1;31mAttributeError\u001B[0m                            Traceback (most recent call last)",
      "\u001B[1;32m~\\AppData\\Local\\Temp/ipykernel_10608/2993193081.py\u001B[0m in \u001B[0;36m<module>\u001B[1;34m\u001B[0m\n\u001B[1;32m----> 1\u001B[1;33m \u001B[0mdata\u001B[0m\u001B[1;33m[\u001B[0m\u001B[1;34m'tags'\u001B[0m\u001B[1;33m]\u001B[0m \u001B[1;33m=\u001B[0m \u001B[0mdata\u001B[0m\u001B[1;33m[\u001B[0m\u001B[1;34m'text1'\u001B[0m\u001B[1;33m]\u001B[0m\u001B[1;33m.\u001B[0m\u001B[0mapply\u001B[0m\u001B[1;33m(\u001B[0m\u001B[1;32mlambda\u001B[0m \u001B[0mx\u001B[0m\u001B[1;33m:\u001B[0m \u001B[0mtag\u001B[0m\u001B[1;33m(\u001B[0m\u001B[0mx\u001B[0m\u001B[1;33m)\u001B[0m\u001B[1;33m)\u001B[0m\u001B[1;33m\u001B[0m\u001B[1;33m\u001B[0m\u001B[0m\n\u001B[0m\u001B[0;32m      2\u001B[0m \u001B[0mdata\u001B[0m\u001B[1;33m[\u001B[0m\u001B[1;34m'tags'\u001B[0m\u001B[1;33m]\u001B[0m \u001B[1;33m=\u001B[0m \u001B[1;33m[\u001B[0m\u001B[1;34m' '\u001B[0m\u001B[1;33m.\u001B[0m\u001B[0mjoin\u001B[0m\u001B[1;33m(\u001B[0m\u001B[0mmap\u001B[0m\u001B[1;33m(\u001B[0m\u001B[0mstr\u001B[0m\u001B[1;33m,\u001B[0m \u001B[0ml\u001B[0m\u001B[1;33m)\u001B[0m\u001B[1;33m)\u001B[0m \u001B[1;32mfor\u001B[0m \u001B[0ml\u001B[0m \u001B[1;32min\u001B[0m \u001B[0mdata\u001B[0m\u001B[1;33m[\u001B[0m\u001B[1;34m'tags'\u001B[0m\u001B[1;33m]\u001B[0m\u001B[1;33m]\u001B[0m\u001B[1;33m\u001B[0m\u001B[1;33m\u001B[0m\u001B[0m\n\u001B[0;32m      3\u001B[0m \u001B[0mdata\u001B[0m\u001B[1;33m.\u001B[0m\u001B[0msample\u001B[0m\u001B[1;33m(\u001B[0m\u001B[1;36m3\u001B[0m\u001B[1;33m)\u001B[0m\u001B[1;33m\u001B[0m\u001B[1;33m\u001B[0m\u001B[0m\n\u001B[0;32m      4\u001B[0m \u001B[1;33m\u001B[0m\u001B[0m\n",
      "\u001B[1;32mB:\\SCHOOL\\MasterThesis\\PredictorApp\\venv\\lib\\site-packages\\pandas\\core\\series.py\u001B[0m in \u001B[0;36mapply\u001B[1;34m(self, func, convert_dtype, args, **kwargs)\u001B[0m\n\u001B[0;32m   4355\u001B[0m         \u001B[0mdtype\u001B[0m\u001B[1;33m:\u001B[0m \u001B[0mfloat64\u001B[0m\u001B[1;33m\u001B[0m\u001B[1;33m\u001B[0m\u001B[0m\n\u001B[0;32m   4356\u001B[0m         \"\"\"\n\u001B[1;32m-> 4357\u001B[1;33m         \u001B[1;32mreturn\u001B[0m \u001B[0mSeriesApply\u001B[0m\u001B[1;33m(\u001B[0m\u001B[0mself\u001B[0m\u001B[1;33m,\u001B[0m \u001B[0mfunc\u001B[0m\u001B[1;33m,\u001B[0m \u001B[0mconvert_dtype\u001B[0m\u001B[1;33m,\u001B[0m \u001B[0margs\u001B[0m\u001B[1;33m,\u001B[0m \u001B[0mkwargs\u001B[0m\u001B[1;33m)\u001B[0m\u001B[1;33m.\u001B[0m\u001B[0mapply\u001B[0m\u001B[1;33m(\u001B[0m\u001B[1;33m)\u001B[0m\u001B[1;33m\u001B[0m\u001B[1;33m\u001B[0m\u001B[0m\n\u001B[0m\u001B[0;32m   4358\u001B[0m \u001B[1;33m\u001B[0m\u001B[0m\n\u001B[0;32m   4359\u001B[0m     def _reduce(\n",
      "\u001B[1;32mB:\\SCHOOL\\MasterThesis\\PredictorApp\\venv\\lib\\site-packages\\pandas\\core\\apply.py\u001B[0m in \u001B[0;36mapply\u001B[1;34m(self)\u001B[0m\n\u001B[0;32m   1041\u001B[0m             \u001B[1;32mreturn\u001B[0m \u001B[0mself\u001B[0m\u001B[1;33m.\u001B[0m\u001B[0mapply_str\u001B[0m\u001B[1;33m(\u001B[0m\u001B[1;33m)\u001B[0m\u001B[1;33m\u001B[0m\u001B[1;33m\u001B[0m\u001B[0m\n\u001B[0;32m   1042\u001B[0m \u001B[1;33m\u001B[0m\u001B[0m\n\u001B[1;32m-> 1043\u001B[1;33m         \u001B[1;32mreturn\u001B[0m \u001B[0mself\u001B[0m\u001B[1;33m.\u001B[0m\u001B[0mapply_standard\u001B[0m\u001B[1;33m(\u001B[0m\u001B[1;33m)\u001B[0m\u001B[1;33m\u001B[0m\u001B[1;33m\u001B[0m\u001B[0m\n\u001B[0m\u001B[0;32m   1044\u001B[0m \u001B[1;33m\u001B[0m\u001B[0m\n\u001B[0;32m   1045\u001B[0m     \u001B[1;32mdef\u001B[0m \u001B[0magg\u001B[0m\u001B[1;33m(\u001B[0m\u001B[0mself\u001B[0m\u001B[1;33m)\u001B[0m\u001B[1;33m:\u001B[0m\u001B[1;33m\u001B[0m\u001B[1;33m\u001B[0m\u001B[0m\n",
      "\u001B[1;32mB:\\SCHOOL\\MasterThesis\\PredictorApp\\venv\\lib\\site-packages\\pandas\\core\\apply.py\u001B[0m in \u001B[0;36mapply_standard\u001B[1;34m(self)\u001B[0m\n\u001B[0;32m   1097\u001B[0m                 \u001B[1;31m# List[Union[Callable[..., Any], str]]]]]\"; expected\u001B[0m\u001B[1;33m\u001B[0m\u001B[1;33m\u001B[0m\u001B[1;33m\u001B[0m\u001B[0m\n\u001B[0;32m   1098\u001B[0m                 \u001B[1;31m# \"Callable[[Any], Any]\"\u001B[0m\u001B[1;33m\u001B[0m\u001B[1;33m\u001B[0m\u001B[1;33m\u001B[0m\u001B[0m\n\u001B[1;32m-> 1099\u001B[1;33m                 mapped = lib.map_infer(\n\u001B[0m\u001B[0;32m   1100\u001B[0m                     \u001B[0mvalues\u001B[0m\u001B[1;33m,\u001B[0m\u001B[1;33m\u001B[0m\u001B[1;33m\u001B[0m\u001B[0m\n\u001B[0;32m   1101\u001B[0m                     \u001B[0mf\u001B[0m\u001B[1;33m,\u001B[0m  \u001B[1;31m# type: ignore[arg-type]\u001B[0m\u001B[1;33m\u001B[0m\u001B[1;33m\u001B[0m\u001B[0m\n",
      "\u001B[1;32mB:\\SCHOOL\\MasterThesis\\PredictorApp\\venv\\lib\\site-packages\\pandas\\_libs\\lib.pyx\u001B[0m in \u001B[0;36mpandas._libs.lib.map_infer\u001B[1;34m()\u001B[0m\n",
      "\u001B[1;32m~\\AppData\\Local\\Temp/ipykernel_10608/2993193081.py\u001B[0m in \u001B[0;36m<lambda>\u001B[1;34m(x)\u001B[0m\n\u001B[1;32m----> 1\u001B[1;33m \u001B[0mdata\u001B[0m\u001B[1;33m[\u001B[0m\u001B[1;34m'tags'\u001B[0m\u001B[1;33m]\u001B[0m \u001B[1;33m=\u001B[0m \u001B[0mdata\u001B[0m\u001B[1;33m[\u001B[0m\u001B[1;34m'text1'\u001B[0m\u001B[1;33m]\u001B[0m\u001B[1;33m.\u001B[0m\u001B[0mapply\u001B[0m\u001B[1;33m(\u001B[0m\u001B[1;32mlambda\u001B[0m \u001B[0mx\u001B[0m\u001B[1;33m:\u001B[0m \u001B[0mtag\u001B[0m\u001B[1;33m(\u001B[0m\u001B[0mx\u001B[0m\u001B[1;33m)\u001B[0m\u001B[1;33m)\u001B[0m\u001B[1;33m\u001B[0m\u001B[1;33m\u001B[0m\u001B[0m\n\u001B[0m\u001B[0;32m      2\u001B[0m \u001B[0mdata\u001B[0m\u001B[1;33m[\u001B[0m\u001B[1;34m'tags'\u001B[0m\u001B[1;33m]\u001B[0m \u001B[1;33m=\u001B[0m \u001B[1;33m[\u001B[0m\u001B[1;34m' '\u001B[0m\u001B[1;33m.\u001B[0m\u001B[0mjoin\u001B[0m\u001B[1;33m(\u001B[0m\u001B[0mmap\u001B[0m\u001B[1;33m(\u001B[0m\u001B[0mstr\u001B[0m\u001B[1;33m,\u001B[0m \u001B[0ml\u001B[0m\u001B[1;33m)\u001B[0m\u001B[1;33m)\u001B[0m \u001B[1;32mfor\u001B[0m \u001B[0ml\u001B[0m \u001B[1;32min\u001B[0m \u001B[0mdata\u001B[0m\u001B[1;33m[\u001B[0m\u001B[1;34m'tags'\u001B[0m\u001B[1;33m]\u001B[0m\u001B[1;33m]\u001B[0m\u001B[1;33m\u001B[0m\u001B[1;33m\u001B[0m\u001B[0m\n\u001B[0;32m      3\u001B[0m \u001B[0mdata\u001B[0m\u001B[1;33m.\u001B[0m\u001B[0msample\u001B[0m\u001B[1;33m(\u001B[0m\u001B[1;36m3\u001B[0m\u001B[1;33m)\u001B[0m\u001B[1;33m\u001B[0m\u001B[1;33m\u001B[0m\u001B[0m\n\u001B[0;32m      4\u001B[0m \u001B[1;33m\u001B[0m\u001B[0m\n",
      "\u001B[1;32m~\\AppData\\Local\\Temp/ipykernel_10608/627161225.py\u001B[0m in \u001B[0;36mtag\u001B[1;34m(x)\u001B[0m\n\u001B[0;32m      9\u001B[0m \u001B[1;33m\u001B[0m\u001B[0m\n\u001B[0;32m     10\u001B[0m \u001B[1;32mdef\u001B[0m \u001B[0mtag\u001B[0m\u001B[1;33m(\u001B[0m\u001B[0mx\u001B[0m\u001B[1;33m)\u001B[0m\u001B[1;33m:\u001B[0m\u001B[1;33m\u001B[0m\u001B[1;33m\u001B[0m\u001B[0m\n\u001B[1;32m---> 11\u001B[1;33m     \u001B[0mhashtag\u001B[0m \u001B[1;33m=\u001B[0m \u001B[0mset\u001B[0m\u001B[1;33m(\u001B[0m\u001B[0mpart\u001B[0m\u001B[1;33m[\u001B[0m\u001B[1;36m1\u001B[0m\u001B[1;33m:\u001B[0m\u001B[1;33m]\u001B[0m \u001B[1;32mfor\u001B[0m \u001B[0mpart\u001B[0m \u001B[1;32min\u001B[0m \u001B[0mx\u001B[0m\u001B[1;33m.\u001B[0m\u001B[0msplit\u001B[0m\u001B[1;33m(\u001B[0m\u001B[1;33m)\u001B[0m \u001B[1;32mif\u001B[0m \u001B[0mpart\u001B[0m\u001B[1;33m.\u001B[0m\u001B[0mstartswith\u001B[0m\u001B[1;33m(\u001B[0m\u001B[1;34m'#'\u001B[0m\u001B[1;33m)\u001B[0m\u001B[1;33m)\u001B[0m\u001B[1;33m\u001B[0m\u001B[1;33m\u001B[0m\u001B[0m\n\u001B[0m\u001B[0;32m     12\u001B[0m \u001B[1;33m\u001B[0m\u001B[0m\n\u001B[0;32m     13\u001B[0m     \u001B[1;32mif\u001B[0m \u001B[0mlen\u001B[0m\u001B[1;33m(\u001B[0m\u001B[0mhashtag\u001B[0m\u001B[1;33m)\u001B[0m \u001B[1;33m==\u001B[0m \u001B[1;36m0\u001B[0m\u001B[1;33m:\u001B[0m\u001B[1;33m\u001B[0m\u001B[1;33m\u001B[0m\u001B[0m\n",
      "\u001B[1;31mAttributeError\u001B[0m: 'float' object has no attribute 'split'"
     ]
    }
   ],
   "source": [
    "data['tags'] = data['text1'].apply(lambda x: tag(x))\n",
    "data['tags'] = [' '.join(map(str, l)) for l in data['tags']]\n",
    "data.sample(3)\n"
   ],
   "metadata": {
    "collapsed": false,
    "pycharm": {
     "name": "#%%\n"
    }
   }
  }
 ],
 "metadata": {
  "kernelspec": {
   "name": "pycharm-58ceeb16",
   "language": "python",
   "display_name": "PyCharm (PredictorApp)"
  },
  "language_info": {
   "codemirror_mode": {
    "name": "ipython",
    "version": 2
   },
   "file_extension": ".py",
   "mimetype": "text/x-python",
   "name": "python",
   "nbconvert_exporter": "python",
   "pygments_lexer": "ipython2",
   "version": "2.7.6"
  }
 },
 "nbformat": 4,
 "nbformat_minor": 0
}