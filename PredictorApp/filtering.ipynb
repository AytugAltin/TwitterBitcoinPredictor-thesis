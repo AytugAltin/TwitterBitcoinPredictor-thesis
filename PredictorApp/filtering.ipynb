{
 "cells": [
  {
   "cell_type": "code",
   "execution_count": 69,
   "metadata": {
    "collapsed": true
   },
   "outputs": [],
   "source": [
    "import numpy as np\n",
    "import pandas as pd\n",
    "from time import time\n",
    "import pandas as pd\n",
    "import numpy as np\n",
    "import re\n",
    "import sys\n",
    "import csv"
   ]
  },
  {
   "cell_type": "code",
   "execution_count": 104,
   "outputs": [
    {
     "data": {
      "text/plain": "        Unix Timestamp                 Date  Symbol    Open    High     Low  \\\n525599      1483228800  2017-01-01 00:00:00  BTCUSD  974.55  974.55  974.55   \n525598      1483228860  2017-01-01 00:01:00  BTCUSD  974.55  974.55  974.55   \n525597      1483228920  2017-01-01 00:02:00  BTCUSD  974.55  974.55  970.00   \n525596      1483228980  2017-01-01 00:03:00  BTCUSD  970.00  970.00  970.00   \n525595      1483229040  2017-01-01 00:04:00  BTCUSD  970.00  970.00  970.00   \n525594      1483229100  2017-01-01 00:05:00  BTCUSD  970.00  970.00  970.00   \n525593      1483229160  2017-01-01 00:06:00  BTCUSD  970.00  970.00  970.00   \n525592      1483229220  2017-01-01 00:07:00  BTCUSD  970.00  974.55  970.00   \n525591      1483229280  2017-01-01 00:08:00  BTCUSD  974.55  974.55  974.55   \n525590      1483229340  2017-01-01 00:09:00  BTCUSD  974.55  974.55  974.55   \n525589      1483229400  2017-01-01 00:10:00  BTCUSD  974.55  974.55  974.55   \n525588      1483229460  2017-01-01 00:11:00  BTCUSD  974.55  974.55  974.55   \n525587      1483229520  2017-01-01 00:12:00  BTCUSD  974.55  974.55  974.50   \n525586      1483229580  2017-01-01 00:13:00  BTCUSD  974.50  974.50  974.50   \n525585      1483229640  2017-01-01 00:14:00  BTCUSD  974.50  974.50  965.34   \n525584      1483229700  2017-01-01 00:15:00  BTCUSD  965.34  965.34  965.34   \n525583      1483229760  2017-01-01 00:16:00  BTCUSD  965.34  974.49  965.34   \n525582      1483229820  2017-01-01 00:17:00  BTCUSD  974.49  974.49  974.49   \n525581      1483229880  2017-01-01 00:18:00  BTCUSD  974.49  974.49  974.49   \n525580      1483229940  2017-01-01 00:19:00  BTCUSD  974.49  974.49  971.22   \n525579      1483230000  2017-01-01 00:20:00  BTCUSD  971.23  971.23  971.23   \n525578      1483230060  2017-01-01 00:21:00  BTCUSD  971.23  973.99  971.23   \n525577      1483230120  2017-01-01 00:22:00  BTCUSD  973.99  974.50  973.99   \n525576      1483230180  2017-01-01 00:23:00  BTCUSD  974.00  974.00  973.99   \n525575      1483230240  2017-01-01 00:24:00  BTCUSD  973.99  973.99  973.99   \n525574      1483230300  2017-01-01 00:25:00  BTCUSD  973.99  973.99  973.99   \n525573      1483230360  2017-01-01 00:26:00  BTCUSD  973.99  974.00  973.99   \n525572      1483230420  2017-01-01 00:27:00  BTCUSD  974.00  974.00  973.99   \n525571      1483230480  2017-01-01 00:28:00  BTCUSD  973.99  973.99  973.99   \n525570      1483230540  2017-01-01 00:29:00  BTCUSD  973.99  973.99  973.99   \n\n         Close    Volume  \n525599  974.55  0.000000  \n525598  974.55  0.000000  \n525597  970.00  0.417679  \n525596  970.00  0.000514  \n525595  970.00  0.000000  \n525594  970.00  0.024137  \n525593  970.00  0.000000  \n525592  974.55  0.051969  \n525591  974.55  0.511775  \n525590  974.55  0.000000  \n525589  974.55  0.000000  \n525588  974.55  0.000000  \n525587  974.50  0.009299  \n525586  974.50  0.000000  \n525585  965.34  1.600000  \n525584  965.34  0.000000  \n525583  974.49  0.060517  \n525582  974.49  0.000000  \n525581  974.49  0.000000  \n525580  971.23  0.132186  \n525579  971.23  0.114000  \n525578  973.99  0.065058  \n525577  974.00  4.139316  \n525576  973.99  0.074328  \n525575  973.99  0.065047  \n525574  973.99  0.000000  \n525573  974.00  2.649293  \n525572  973.99  0.075221  \n525571  973.99  0.000000  \n525570  973.99  0.000000  ",
      "text/html": "<div>\n<style scoped>\n    .dataframe tbody tr th:only-of-type {\n        vertical-align: middle;\n    }\n\n    .dataframe tbody tr th {\n        vertical-align: top;\n    }\n\n    .dataframe thead th {\n        text-align: right;\n    }\n</style>\n<table border=\"1\" class=\"dataframe\">\n  <thead>\n    <tr style=\"text-align: right;\">\n      <th></th>\n      <th>Unix Timestamp</th>\n      <th>Date</th>\n      <th>Symbol</th>\n      <th>Open</th>\n      <th>High</th>\n      <th>Low</th>\n      <th>Close</th>\n      <th>Volume</th>\n    </tr>\n  </thead>\n  <tbody>\n    <tr>\n      <th>525599</th>\n      <td>1483228800</td>\n      <td>2017-01-01 00:00:00</td>\n      <td>BTCUSD</td>\n      <td>974.55</td>\n      <td>974.55</td>\n      <td>974.55</td>\n      <td>974.55</td>\n      <td>0.000000</td>\n    </tr>\n    <tr>\n      <th>525598</th>\n      <td>1483228860</td>\n      <td>2017-01-01 00:01:00</td>\n      <td>BTCUSD</td>\n      <td>974.55</td>\n      <td>974.55</td>\n      <td>974.55</td>\n      <td>974.55</td>\n      <td>0.000000</td>\n    </tr>\n    <tr>\n      <th>525597</th>\n      <td>1483228920</td>\n      <td>2017-01-01 00:02:00</td>\n      <td>BTCUSD</td>\n      <td>974.55</td>\n      <td>974.55</td>\n      <td>970.00</td>\n      <td>970.00</td>\n      <td>0.417679</td>\n    </tr>\n    <tr>\n      <th>525596</th>\n      <td>1483228980</td>\n      <td>2017-01-01 00:03:00</td>\n      <td>BTCUSD</td>\n      <td>970.00</td>\n      <td>970.00</td>\n      <td>970.00</td>\n      <td>970.00</td>\n      <td>0.000514</td>\n    </tr>\n    <tr>\n      <th>525595</th>\n      <td>1483229040</td>\n      <td>2017-01-01 00:04:00</td>\n      <td>BTCUSD</td>\n      <td>970.00</td>\n      <td>970.00</td>\n      <td>970.00</td>\n      <td>970.00</td>\n      <td>0.000000</td>\n    </tr>\n    <tr>\n      <th>525594</th>\n      <td>1483229100</td>\n      <td>2017-01-01 00:05:00</td>\n      <td>BTCUSD</td>\n      <td>970.00</td>\n      <td>970.00</td>\n      <td>970.00</td>\n      <td>970.00</td>\n      <td>0.024137</td>\n    </tr>\n    <tr>\n      <th>525593</th>\n      <td>1483229160</td>\n      <td>2017-01-01 00:06:00</td>\n      <td>BTCUSD</td>\n      <td>970.00</td>\n      <td>970.00</td>\n      <td>970.00</td>\n      <td>970.00</td>\n      <td>0.000000</td>\n    </tr>\n    <tr>\n      <th>525592</th>\n      <td>1483229220</td>\n      <td>2017-01-01 00:07:00</td>\n      <td>BTCUSD</td>\n      <td>970.00</td>\n      <td>974.55</td>\n      <td>970.00</td>\n      <td>974.55</td>\n      <td>0.051969</td>\n    </tr>\n    <tr>\n      <th>525591</th>\n      <td>1483229280</td>\n      <td>2017-01-01 00:08:00</td>\n      <td>BTCUSD</td>\n      <td>974.55</td>\n      <td>974.55</td>\n      <td>974.55</td>\n      <td>974.55</td>\n      <td>0.511775</td>\n    </tr>\n    <tr>\n      <th>525590</th>\n      <td>1483229340</td>\n      <td>2017-01-01 00:09:00</td>\n      <td>BTCUSD</td>\n      <td>974.55</td>\n      <td>974.55</td>\n      <td>974.55</td>\n      <td>974.55</td>\n      <td>0.000000</td>\n    </tr>\n    <tr>\n      <th>525589</th>\n      <td>1483229400</td>\n      <td>2017-01-01 00:10:00</td>\n      <td>BTCUSD</td>\n      <td>974.55</td>\n      <td>974.55</td>\n      <td>974.55</td>\n      <td>974.55</td>\n      <td>0.000000</td>\n    </tr>\n    <tr>\n      <th>525588</th>\n      <td>1483229460</td>\n      <td>2017-01-01 00:11:00</td>\n      <td>BTCUSD</td>\n      <td>974.55</td>\n      <td>974.55</td>\n      <td>974.55</td>\n      <td>974.55</td>\n      <td>0.000000</td>\n    </tr>\n    <tr>\n      <th>525587</th>\n      <td>1483229520</td>\n      <td>2017-01-01 00:12:00</td>\n      <td>BTCUSD</td>\n      <td>974.55</td>\n      <td>974.55</td>\n      <td>974.50</td>\n      <td>974.50</td>\n      <td>0.009299</td>\n    </tr>\n    <tr>\n      <th>525586</th>\n      <td>1483229580</td>\n      <td>2017-01-01 00:13:00</td>\n      <td>BTCUSD</td>\n      <td>974.50</td>\n      <td>974.50</td>\n      <td>974.50</td>\n      <td>974.50</td>\n      <td>0.000000</td>\n    </tr>\n    <tr>\n      <th>525585</th>\n      <td>1483229640</td>\n      <td>2017-01-01 00:14:00</td>\n      <td>BTCUSD</td>\n      <td>974.50</td>\n      <td>974.50</td>\n      <td>965.34</td>\n      <td>965.34</td>\n      <td>1.600000</td>\n    </tr>\n    <tr>\n      <th>525584</th>\n      <td>1483229700</td>\n      <td>2017-01-01 00:15:00</td>\n      <td>BTCUSD</td>\n      <td>965.34</td>\n      <td>965.34</td>\n      <td>965.34</td>\n      <td>965.34</td>\n      <td>0.000000</td>\n    </tr>\n    <tr>\n      <th>525583</th>\n      <td>1483229760</td>\n      <td>2017-01-01 00:16:00</td>\n      <td>BTCUSD</td>\n      <td>965.34</td>\n      <td>974.49</td>\n      <td>965.34</td>\n      <td>974.49</td>\n      <td>0.060517</td>\n    </tr>\n    <tr>\n      <th>525582</th>\n      <td>1483229820</td>\n      <td>2017-01-01 00:17:00</td>\n      <td>BTCUSD</td>\n      <td>974.49</td>\n      <td>974.49</td>\n      <td>974.49</td>\n      <td>974.49</td>\n      <td>0.000000</td>\n    </tr>\n    <tr>\n      <th>525581</th>\n      <td>1483229880</td>\n      <td>2017-01-01 00:18:00</td>\n      <td>BTCUSD</td>\n      <td>974.49</td>\n      <td>974.49</td>\n      <td>974.49</td>\n      <td>974.49</td>\n      <td>0.000000</td>\n    </tr>\n    <tr>\n      <th>525580</th>\n      <td>1483229940</td>\n      <td>2017-01-01 00:19:00</td>\n      <td>BTCUSD</td>\n      <td>974.49</td>\n      <td>974.49</td>\n      <td>971.22</td>\n      <td>971.23</td>\n      <td>0.132186</td>\n    </tr>\n    <tr>\n      <th>525579</th>\n      <td>1483230000</td>\n      <td>2017-01-01 00:20:00</td>\n      <td>BTCUSD</td>\n      <td>971.23</td>\n      <td>971.23</td>\n      <td>971.23</td>\n      <td>971.23</td>\n      <td>0.114000</td>\n    </tr>\n    <tr>\n      <th>525578</th>\n      <td>1483230060</td>\n      <td>2017-01-01 00:21:00</td>\n      <td>BTCUSD</td>\n      <td>971.23</td>\n      <td>973.99</td>\n      <td>971.23</td>\n      <td>973.99</td>\n      <td>0.065058</td>\n    </tr>\n    <tr>\n      <th>525577</th>\n      <td>1483230120</td>\n      <td>2017-01-01 00:22:00</td>\n      <td>BTCUSD</td>\n      <td>973.99</td>\n      <td>974.50</td>\n      <td>973.99</td>\n      <td>974.00</td>\n      <td>4.139316</td>\n    </tr>\n    <tr>\n      <th>525576</th>\n      <td>1483230180</td>\n      <td>2017-01-01 00:23:00</td>\n      <td>BTCUSD</td>\n      <td>974.00</td>\n      <td>974.00</td>\n      <td>973.99</td>\n      <td>973.99</td>\n      <td>0.074328</td>\n    </tr>\n    <tr>\n      <th>525575</th>\n      <td>1483230240</td>\n      <td>2017-01-01 00:24:00</td>\n      <td>BTCUSD</td>\n      <td>973.99</td>\n      <td>973.99</td>\n      <td>973.99</td>\n      <td>973.99</td>\n      <td>0.065047</td>\n    </tr>\n    <tr>\n      <th>525574</th>\n      <td>1483230300</td>\n      <td>2017-01-01 00:25:00</td>\n      <td>BTCUSD</td>\n      <td>973.99</td>\n      <td>973.99</td>\n      <td>973.99</td>\n      <td>973.99</td>\n      <td>0.000000</td>\n    </tr>\n    <tr>\n      <th>525573</th>\n      <td>1483230360</td>\n      <td>2017-01-01 00:26:00</td>\n      <td>BTCUSD</td>\n      <td>973.99</td>\n      <td>974.00</td>\n      <td>973.99</td>\n      <td>974.00</td>\n      <td>2.649293</td>\n    </tr>\n    <tr>\n      <th>525572</th>\n      <td>1483230420</td>\n      <td>2017-01-01 00:27:00</td>\n      <td>BTCUSD</td>\n      <td>974.00</td>\n      <td>974.00</td>\n      <td>973.99</td>\n      <td>973.99</td>\n      <td>0.075221</td>\n    </tr>\n    <tr>\n      <th>525571</th>\n      <td>1483230480</td>\n      <td>2017-01-01 00:28:00</td>\n      <td>BTCUSD</td>\n      <td>973.99</td>\n      <td>973.99</td>\n      <td>973.99</td>\n      <td>973.99</td>\n      <td>0.000000</td>\n    </tr>\n    <tr>\n      <th>525570</th>\n      <td>1483230540</td>\n      <td>2017-01-01 00:29:00</td>\n      <td>BTCUSD</td>\n      <td>973.99</td>\n      <td>973.99</td>\n      <td>973.99</td>\n      <td>973.99</td>\n      <td>0.000000</td>\n    </tr>\n  </tbody>\n</table>\n</div>"
     },
     "execution_count": 104,
     "metadata": {},
     "output_type": "execute_result"
    }
   ],
   "source": [
    "data = pd.read_csv(\"data/bitcoin/gemini_BTCUSD_2017_1min.csv\")\n",
    "data = data.sort_values(by='Date')\n",
    "data.head(30)\n",
    "\n"
   ],
   "metadata": {
    "collapsed": false,
    "pycharm": {
     "name": "#%%\n"
    }
   }
  }
 ],
 "metadata": {
  "kernelspec": {
   "name": "pycharm-58ceeb16",
   "language": "python",
   "display_name": "PyCharm (PredictorApp)"
  },
  "language_info": {
   "codemirror_mode": {
    "name": "ipython",
    "version": 2
   },
   "file_extension": ".py",
   "mimetype": "text/x-python",
   "name": "python",
   "nbconvert_exporter": "python",
   "pygments_lexer": "ipython2",
   "version": "2.7.6"
  }
 },
 "nbformat": 4,
 "nbformat_minor": 0
}