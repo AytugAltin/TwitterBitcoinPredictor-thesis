{
 "cells": [
  {
   "cell_type": "code",
   "execution_count": 4,
   "metadata": {
    "collapsed": true
   },
   "outputs": [],
   "source": [
    "import numpy as np\n",
    "import pandas as pd\n",
    "from time import time\n",
    "import pandas as pd\n",
    "import numpy as np\n",
    "import re\n",
    "import sys\n",
    "import csv"
   ]
  },
  {
   "cell_type": "code",
   "execution_count": 5,
   "outputs": [
    {
     "data": {
      "text/plain": "   Unnamed: 0  Unnamed: 0.1        date            id            user  \\\n0           0             0  2019-01-01  1.079905e+18    CryptoHourly   \n1           1             1  2019-01-01  1.079905e+18   short_vs_long   \n2           2             2  2019-01-01  1.079905e+18   short_vs_long   \n3           3             3  2019-01-01  1.079905e+18  BSD_Masternode   \n4           4             4  2019-01-01  1.079905e+18        gntprice   \n\n              fullname                                         url  \\\n0        crypto Hourly    /CryptoHourly/status/1079905043611090945   \n1  SHORT vs LONG(Beta)   /short_vs_long/status/1079905045427175424   \n2  SHORT vs LONG(Beta)   /short_vs_long/status/1079905046370967553   \n3  Bitsend Masternodes  /BSD_Masternode/status/1079905049638305793   \n4          Golem Price        /gntprice/status/1079905049063624705   \n\n                timestamp  replies  likes  ...  lang  \\\n0  2019-01-01 00:00:00+00        0      0  ...    en   \n1  2019-01-01 00:00:01+00        0      0  ...    en   \n2  2019-01-01 00:00:01+00        0      0  ...    en   \n3  2019-01-01 00:00:02+00        0      1  ...    en   \n4  2019-01-01 00:00:02+00        0      0  ...    en   \n\n                                                bert  \\\n0  [0, 5, 465, 167, 7, 6635, 30, 5604, 1727, 15, ...   \n1  [0, 1032, 544, 1126, 75, 25518, 2024, 13594, 5...   \n2  [0, 2755, 544, 1126, 75, 25518, 2024, 13594, 5...   \n3  [0, 25142, 2439, 9178, 19, 37473, 786, 949, 76...   \n4  [0, 144, 442, 9681, 17, 77, 793, 144, 2382, 40...   \n\n                                                tags promote  \\\n0                                                 1,           \n1                                              [' ']           \n2                                              [' ']           \n3  ['BSD', 'Bitsend', 'BTC', 'Bitcoin', 'cryptocu...           \n4         ['GNThttps://www.coinvalue.xyz/coin/gnt/']           \n\n                                       filtered_text    bot sent_neg  \\\n0               bitcoin unit price market cap hr vol  False      0.0   \n1              h long btc btc short btc btc ls vs vs  False      0.0   \n2              h long btc btc short btc btc ls vs vs  False      0.0   \n3  cryptocurrency price analysis bitsend bsd last...  False      0.0   \n4                                  gnt worth btc gnt  False      0.0   \n\n   sent_neu  sent_pos  sent_compound  \n0     1.000     0.000         0.0000  \n1     1.000     0.000         0.0000  \n2     1.000     0.000         0.0000  \n3     1.000     0.000         0.0000  \n4     0.612     0.388         0.2263  \n\n[5 rows x 22 columns]",
      "text/html": "<div>\n<style scoped>\n    .dataframe tbody tr th:only-of-type {\n        vertical-align: middle;\n    }\n\n    .dataframe tbody tr th {\n        vertical-align: top;\n    }\n\n    .dataframe thead th {\n        text-align: right;\n    }\n</style>\n<table border=\"1\" class=\"dataframe\">\n  <thead>\n    <tr style=\"text-align: right;\">\n      <th></th>\n      <th>Unnamed: 0</th>\n      <th>Unnamed: 0.1</th>\n      <th>date</th>\n      <th>id</th>\n      <th>user</th>\n      <th>fullname</th>\n      <th>url</th>\n      <th>timestamp</th>\n      <th>replies</th>\n      <th>likes</th>\n      <th>...</th>\n      <th>lang</th>\n      <th>bert</th>\n      <th>tags</th>\n      <th>promote</th>\n      <th>filtered_text</th>\n      <th>bot</th>\n      <th>sent_neg</th>\n      <th>sent_neu</th>\n      <th>sent_pos</th>\n      <th>sent_compound</th>\n    </tr>\n  </thead>\n  <tbody>\n    <tr>\n      <th>0</th>\n      <td>0</td>\n      <td>0</td>\n      <td>2019-01-01</td>\n      <td>1.079905e+18</td>\n      <td>CryptoHourly</td>\n      <td>crypto Hourly</td>\n      <td>/CryptoHourly/status/1079905043611090945</td>\n      <td>2019-01-01 00:00:00+00</td>\n      <td>0</td>\n      <td>0</td>\n      <td>...</td>\n      <td>en</td>\n      <td>[0, 5, 465, 167, 7, 6635, 30, 5604, 1727, 15, ...</td>\n      <td>1,</td>\n      <td></td>\n      <td>bitcoin unit price market cap hr vol</td>\n      <td>False</td>\n      <td>0.0</td>\n      <td>1.000</td>\n      <td>0.000</td>\n      <td>0.0000</td>\n    </tr>\n    <tr>\n      <th>1</th>\n      <td>1</td>\n      <td>1</td>\n      <td>2019-01-01</td>\n      <td>1.079905e+18</td>\n      <td>short_vs_long</td>\n      <td>SHORT vs LONG(Beta)</td>\n      <td>/short_vs_long/status/1079905045427175424</td>\n      <td>2019-01-01 00:00:01+00</td>\n      <td>0</td>\n      <td>0</td>\n      <td>...</td>\n      <td>en</td>\n      <td>[0, 1032, 544, 1126, 75, 25518, 2024, 13594, 5...</td>\n      <td>[' ']</td>\n      <td></td>\n      <td>h long btc btc short btc btc ls vs vs</td>\n      <td>False</td>\n      <td>0.0</td>\n      <td>1.000</td>\n      <td>0.000</td>\n      <td>0.0000</td>\n    </tr>\n    <tr>\n      <th>2</th>\n      <td>2</td>\n      <td>2</td>\n      <td>2019-01-01</td>\n      <td>1.079905e+18</td>\n      <td>short_vs_long</td>\n      <td>SHORT vs LONG(Beta)</td>\n      <td>/short_vs_long/status/1079905046370967553</td>\n      <td>2019-01-01 00:00:01+00</td>\n      <td>0</td>\n      <td>0</td>\n      <td>...</td>\n      <td>en</td>\n      <td>[0, 2755, 544, 1126, 75, 25518, 2024, 13594, 5...</td>\n      <td>[' ']</td>\n      <td></td>\n      <td>h long btc btc short btc btc ls vs vs</td>\n      <td>False</td>\n      <td>0.0</td>\n      <td>1.000</td>\n      <td>0.000</td>\n      <td>0.0000</td>\n    </tr>\n    <tr>\n      <th>3</th>\n      <td>3</td>\n      <td>3</td>\n      <td>2019-01-01</td>\n      <td>1.079905e+18</td>\n      <td>BSD_Masternode</td>\n      <td>Bitsend Masternodes</td>\n      <td>/BSD_Masternode/status/1079905049638305793</td>\n      <td>2019-01-01 00:00:02+00</td>\n      <td>0</td>\n      <td>1</td>\n      <td>...</td>\n      <td>en</td>\n      <td>[0, 25142, 2439, 9178, 19, 37473, 786, 949, 76...</td>\n      <td>['BSD', 'Bitsend', 'BTC', 'Bitcoin', 'cryptocu...</td>\n      <td></td>\n      <td>cryptocurrency price analysis bitsend bsd last...</td>\n      <td>False</td>\n      <td>0.0</td>\n      <td>1.000</td>\n      <td>0.000</td>\n      <td>0.0000</td>\n    </tr>\n    <tr>\n      <th>4</th>\n      <td>4</td>\n      <td>4</td>\n      <td>2019-01-01</td>\n      <td>1.079905e+18</td>\n      <td>gntprice</td>\n      <td>Golem Price</td>\n      <td>/gntprice/status/1079905049063624705</td>\n      <td>2019-01-01 00:00:02+00</td>\n      <td>0</td>\n      <td>0</td>\n      <td>...</td>\n      <td>en</td>\n      <td>[0, 144, 442, 9681, 17, 77, 793, 144, 2382, 40...</td>\n      <td>['GNThttps://www.coinvalue.xyz/coin/gnt/']</td>\n      <td></td>\n      <td>gnt worth btc gnt</td>\n      <td>False</td>\n      <td>0.0</td>\n      <td>0.612</td>\n      <td>0.388</td>\n      <td>0.2263</td>\n    </tr>\n  </tbody>\n</table>\n<p>5 rows × 22 columns</p>\n</div>"
     },
     "execution_count": 5,
     "metadata": {},
     "output_type": "execute_result"
    }
   ],
   "source": [
    "data = pd.read_csv(\"data/TweetsBTC_16mil/filtered/\" +\n",
    "                   \"19_en_filtered.csv\",\n",
    "                   lineterminator='\\n')\n",
    "data.head()"
   ],
   "metadata": {
    "collapsed": false,
    "pycharm": {
     "name": "#%%\n"
    }
   }
  },
  {
   "cell_type": "code",
   "execution_count": 5,
   "outputs": [],
   "source": [],
   "metadata": {
    "collapsed": false,
    "pycharm": {
     "name": "#%%\n"
    }
   }
  }
 ],
 "metadata": {
  "kernelspec": {
   "name": "pycharm-58ceeb16",
   "language": "python",
   "display_name": "PyCharm (PredictorApp)"
  },
  "language_info": {
   "codemirror_mode": {
    "name": "ipython",
    "version": 2
   },
   "file_extension": ".py",
   "mimetype": "text/x-python",
   "name": "python",
   "nbconvert_exporter": "python",
   "pygments_lexer": "ipython2",
   "version": "2.7.6"
  }
 },
 "nbformat": 4,
 "nbformat_minor": 0
}