{
 "cells": [
  {
   "cell_type": "code",
   "execution_count": 2,
   "metadata": {},
   "outputs": [],
   "source": [
    "import numpy as np\n",
    "import pandas as pd "
   ]
  },
  {
   "cell_type": "code",
   "execution_count": 2,
   "metadata": {
    "pycharm": {
     "name": "#%%\n"
    }
   },
   "outputs": [
    {
     "name": "stderr",
     "output_type": "stream",
     "text": [
      "C:\\ProgramData\\Anaconda3\\envs\\PredictorApp\\lib\\site-packages\\IPython\\core\\interactiveshell.py:3441: DtypeWarning: Columns (3) have mixed types.Specify dtype option on import or set low_memory=False.\n",
      "  exec(code_obj, self.user_global_ns, self.user_ns)\n"
     ]
    }
   ],
   "source": [
    "data = pd.read_csv(\"raw_data/TweetsBTC_16mil/tweets.csv\",\n",
    "                   delimiter=';', skiprows=0, lineterminator='\\n')\n"
   ]
  },
  {
   "cell_type": "code",
   "execution_count": 4,
   "outputs": [
    {
     "data": {
      "text/plain": "             id           user             fullname  url  \\\n0  1.132977e+18   KamdemAbdiel        Abdiel kamdem  NaN   \n1  1.132977e+18      bitcointe            Bitcointe  NaN   \n2  1.132977e+18      3eyedbran  Bran - 3 Eyed Raven  NaN   \n3  1.132977e+18  DetroitCrypto          J. Scardina  NaN   \n4  1.132977e+18   mmursaleen72   Muhammad Mursaleen  NaN   \n\n                timestamp  replies  likes  retweets  \\\n0  2019-05-27 11:49:14+00        0      0         0   \n1  2019-05-27 11:49:18+00        0      0         0   \n2  2019-05-27 11:49:06+00        0      2         1   \n3  2019-05-27 11:49:22+00        0      0         0   \n4  2019-05-27 11:49:23+00        0      0         0   \n\n                                              text\\r  \n0  È appena uscito un nuovo video! LES CRYPTOMONN...  \n1  Cardano: Digitize Currencies; EOS https://t.co...  \n2  Another Test tweet that wasn't caught in the s...  \n3  Current Crypto Prices! \\n\\nBTC: $8721.99 USD\\n...  \n4  Spiv (Nosar Baz): BITCOIN Is An Asset &amp; NO...  ",
      "text/html": "<div>\n<style scoped>\n    .dataframe tbody tr th:only-of-type {\n        vertical-align: middle;\n    }\n\n    .dataframe tbody tr th {\n        vertical-align: top;\n    }\n\n    .dataframe thead th {\n        text-align: right;\n    }\n</style>\n<table border=\"1\" class=\"dataframe\">\n  <thead>\n    <tr style=\"text-align: right;\">\n      <th></th>\n      <th>id</th>\n      <th>user</th>\n      <th>fullname</th>\n      <th>url</th>\n      <th>timestamp</th>\n      <th>replies</th>\n      <th>likes</th>\n      <th>retweets</th>\n      <th>text\\r</th>\n    </tr>\n  </thead>\n  <tbody>\n    <tr>\n      <th>0</th>\n      <td>1.132977e+18</td>\n      <td>KamdemAbdiel</td>\n      <td>Abdiel kamdem</td>\n      <td>NaN</td>\n      <td>2019-05-27 11:49:14+00</td>\n      <td>0</td>\n      <td>0</td>\n      <td>0</td>\n      <td>È appena uscito un nuovo video! LES CRYPTOMONN...</td>\n    </tr>\n    <tr>\n      <th>1</th>\n      <td>1.132977e+18</td>\n      <td>bitcointe</td>\n      <td>Bitcointe</td>\n      <td>NaN</td>\n      <td>2019-05-27 11:49:18+00</td>\n      <td>0</td>\n      <td>0</td>\n      <td>0</td>\n      <td>Cardano: Digitize Currencies; EOS https://t.co...</td>\n    </tr>\n    <tr>\n      <th>2</th>\n      <td>1.132977e+18</td>\n      <td>3eyedbran</td>\n      <td>Bran - 3 Eyed Raven</td>\n      <td>NaN</td>\n      <td>2019-05-27 11:49:06+00</td>\n      <td>0</td>\n      <td>2</td>\n      <td>1</td>\n      <td>Another Test tweet that wasn't caught in the s...</td>\n    </tr>\n    <tr>\n      <th>3</th>\n      <td>1.132977e+18</td>\n      <td>DetroitCrypto</td>\n      <td>J. Scardina</td>\n      <td>NaN</td>\n      <td>2019-05-27 11:49:22+00</td>\n      <td>0</td>\n      <td>0</td>\n      <td>0</td>\n      <td>Current Crypto Prices! \\n\\nBTC: $8721.99 USD\\n...</td>\n    </tr>\n    <tr>\n      <th>4</th>\n      <td>1.132977e+18</td>\n      <td>mmursaleen72</td>\n      <td>Muhammad Mursaleen</td>\n      <td>NaN</td>\n      <td>2019-05-27 11:49:23+00</td>\n      <td>0</td>\n      <td>0</td>\n      <td>0</td>\n      <td>Spiv (Nosar Baz): BITCOIN Is An Asset &amp;amp; NO...</td>\n    </tr>\n  </tbody>\n</table>\n</div>"
     },
     "execution_count": 4,
     "metadata": {},
     "output_type": "execute_result"
    }
   ],
   "source": [
    "data.head()\n"
   ],
   "metadata": {
    "collapsed": false,
    "pycharm": {
     "name": "#%%\n"
    }
   }
  },
  {
   "cell_type": "code",
   "execution_count": 5,
   "metadata": {
    "pycharm": {
     "name": "#%%fix heads\n"
    }
   },
   "outputs": [],
   "source": [
    "data.columns = [\"id\", \"user\", \"fullname\", \"url\", \"timestamp\", \"replies\",\"likes\",\"retweets\",\"text\"]\n",
    "data.head()\n",
    "\n",
    "data['date'] = pd.to_datetime(data['timestamp'],format= '%Y-%m-%d').dt.date\n",
    "data = data.sort_values(by='date')\n",
    "data = data.set_index('date')"
   ]
  },
  {
   "cell_type": "code",
   "execution_count": 22,
   "outputs": [],
   "source": [
    "startdate = pd.to_datetime(\"2016-01-01\").date()\n",
    "enddate = pd.to_datetime(\"2016-12-31\").date()\n",
    "df = data.loc[startdate:enddate]\n",
    "df = df.sort_values(by='timestamp')\n",
    "df.head()\n",
    "df.tail()\n",
    "df.to_csv(path_or_buf=\"raw_data/TweetsBTC_16mil/16.csv\")"
   ],
   "metadata": {
    "collapsed": false,
    "pycharm": {
     "name": "#%%\n"
    }
   }
  },
  {
   "cell_type": "code",
   "execution_count": 3,
   "outputs": [
    {
     "data": {
      "text/plain": "         date            id             user             fullname  \\\n0  2016-01-01  6.827280e+17         BTCtoUSD     Bitcoin to USD $   \n1  2016-01-01  6.827280e+17         BTCtoGBP       Bitcoin to GPB   \n2  2016-01-01  6.827280e+17         BTCtoEUR     Bitcoin to EUR €   \n3  2016-01-01  6.827282e+17  priceofreddcoin    Price Of Reddcoin   \n4  2016-01-01  6.827286e+17     TickerCrypto  Crypto Price Ticker   \n\n                                          url               timestamp  \\\n0         /BTCtoUSD/status/682727959866793985  2016-01-01 00:00:04+00   \n1         /BTCtoGBP/status/682727962412716032  2016-01-01 00:00:05+00   \n2         /BTCtoEUR/status/682727961171247104  2016-01-01 00:00:05+00   \n3  /priceofreddcoin/status/682728163860942849  2016-01-01 00:00:53+00   \n4     /TickerCrypto/status/682728580133064704  2016-01-01 00:02:32+00   \n\n   replies  likes  retweets                                               text  \n0        0      0         0  Current price: 431.05$ $BTCUSD $btc #bitcoin 2...  \n1        0      0         0  Current price: 291.77£ $BTCGBP $btc #bitcoin 2...  \n2        0      0         0  Current price: 396.05€ $BTCEUR $btc #bitcoin 2...  \n3        0      0         0  #RDD / #BTC on the exchanges:\\nCryptsy: 0.0000...  \n4        0      0         0  #RDD / #BTC on the exchanges: Cryptsy: 0.00000...  ",
      "text/html": "<div>\n<style scoped>\n    .dataframe tbody tr th:only-of-type {\n        vertical-align: middle;\n    }\n\n    .dataframe tbody tr th {\n        vertical-align: top;\n    }\n\n    .dataframe thead th {\n        text-align: right;\n    }\n</style>\n<table border=\"1\" class=\"dataframe\">\n  <thead>\n    <tr style=\"text-align: right;\">\n      <th></th>\n      <th>date</th>\n      <th>id</th>\n      <th>user</th>\n      <th>fullname</th>\n      <th>url</th>\n      <th>timestamp</th>\n      <th>replies</th>\n      <th>likes</th>\n      <th>retweets</th>\n      <th>text</th>\n    </tr>\n  </thead>\n  <tbody>\n    <tr>\n      <th>0</th>\n      <td>2016-01-01</td>\n      <td>6.827280e+17</td>\n      <td>BTCtoUSD</td>\n      <td>Bitcoin to USD $</td>\n      <td>/BTCtoUSD/status/682727959866793985</td>\n      <td>2016-01-01 00:00:04+00</td>\n      <td>0</td>\n      <td>0</td>\n      <td>0</td>\n      <td>Current price: 431.05$ $BTCUSD $btc #bitcoin 2...</td>\n    </tr>\n    <tr>\n      <th>1</th>\n      <td>2016-01-01</td>\n      <td>6.827280e+17</td>\n      <td>BTCtoGBP</td>\n      <td>Bitcoin to GPB</td>\n      <td>/BTCtoGBP/status/682727962412716032</td>\n      <td>2016-01-01 00:00:05+00</td>\n      <td>0</td>\n      <td>0</td>\n      <td>0</td>\n      <td>Current price: 291.77£ $BTCGBP $btc #bitcoin 2...</td>\n    </tr>\n    <tr>\n      <th>2</th>\n      <td>2016-01-01</td>\n      <td>6.827280e+17</td>\n      <td>BTCtoEUR</td>\n      <td>Bitcoin to EUR €</td>\n      <td>/BTCtoEUR/status/682727961171247104</td>\n      <td>2016-01-01 00:00:05+00</td>\n      <td>0</td>\n      <td>0</td>\n      <td>0</td>\n      <td>Current price: 396.05€ $BTCEUR $btc #bitcoin 2...</td>\n    </tr>\n    <tr>\n      <th>3</th>\n      <td>2016-01-01</td>\n      <td>6.827282e+17</td>\n      <td>priceofreddcoin</td>\n      <td>Price Of Reddcoin</td>\n      <td>/priceofreddcoin/status/682728163860942849</td>\n      <td>2016-01-01 00:00:53+00</td>\n      <td>0</td>\n      <td>0</td>\n      <td>0</td>\n      <td>#RDD / #BTC on the exchanges:\\nCryptsy: 0.0000...</td>\n    </tr>\n    <tr>\n      <th>4</th>\n      <td>2016-01-01</td>\n      <td>6.827286e+17</td>\n      <td>TickerCrypto</td>\n      <td>Crypto Price Ticker</td>\n      <td>/TickerCrypto/status/682728580133064704</td>\n      <td>2016-01-01 00:02:32+00</td>\n      <td>0</td>\n      <td>0</td>\n      <td>0</td>\n      <td>#RDD / #BTC on the exchanges: Cryptsy: 0.00000...</td>\n    </tr>\n  </tbody>\n</table>\n</div>"
     },
     "execution_count": 3,
     "metadata": {},
     "output_type": "execute_result"
    }
   ],
   "source": [
    "\n",
    "data = pd.read_csv(\"raw_data/TweetsBTC_16mil/16.csv\")\n",
    "data.head()"
   ],
   "metadata": {
    "collapsed": false,
    "pycharm": {
     "name": "#%%\n"
    }
   }
  },
  {
   "cell_type": "code",
   "execution_count": 16,
   "outputs": [
    {
     "data": {
      "text/plain": "   Unnamed: 0        date            id             user             fullname  \\\n0           0  2016-01-01  6.827280e+17         BTCtoUSD     Bitcoin to USD $   \n1           1  2016-01-01  6.827280e+17         BTCtoGBP       Bitcoin to GPB   \n2           2  2016-01-01  6.827280e+17         BTCtoEUR     Bitcoin to EUR €   \n3           3  2016-01-01  6.827282e+17  priceofreddcoin    Price Of Reddcoin   \n4           4  2016-01-01  6.827286e+17     TickerCrypto  Crypto Price Ticker   \n\n                                          url               timestamp  \\\n0         /BTCtoUSD/status/682727959866793985  2016-01-01 00:00:04+00   \n1         /BTCtoGBP/status/682727962412716032  2016-01-01 00:00:05+00   \n2         /BTCtoEUR/status/682727961171247104  2016-01-01 00:00:05+00   \n3  /priceofreddcoin/status/682728163860942849  2016-01-01 00:00:53+00   \n4     /TickerCrypto/status/682728580133064704  2016-01-01 00:02:32+00   \n\n   replies  likes  retweets  \\\n0        0      0         0   \n1        0      0         0   \n2        0      0         0   \n3        0      0         0   \n4        0      0         0   \n\n                                                text lang  \n0  Current price: 431.05$ $BTCUSD $btc #bitcoin 2...   en  \n1  Current price: 291.77£ $BTCGBP $btc #bitcoin 2...   en  \n2  Current price: 396.05€ $BTCEUR $btc #bitcoin 2...   en  \n3  #RDD / #BTC on the exchanges:\\nCryptsy: 0.0000...   en  \n4  #RDD / #BTC on the exchanges: Cryptsy: 0.00000...   en  ",
      "text/html": "<div>\n<style scoped>\n    .dataframe tbody tr th:only-of-type {\n        vertical-align: middle;\n    }\n\n    .dataframe tbody tr th {\n        vertical-align: top;\n    }\n\n    .dataframe thead th {\n        text-align: right;\n    }\n</style>\n<table border=\"1\" class=\"dataframe\">\n  <thead>\n    <tr style=\"text-align: right;\">\n      <th></th>\n      <th>Unnamed: 0</th>\n      <th>date</th>\n      <th>id</th>\n      <th>user</th>\n      <th>fullname</th>\n      <th>url</th>\n      <th>timestamp</th>\n      <th>replies</th>\n      <th>likes</th>\n      <th>retweets</th>\n      <th>text</th>\n      <th>lang</th>\n    </tr>\n  </thead>\n  <tbody>\n    <tr>\n      <th>0</th>\n      <td>0</td>\n      <td>2016-01-01</td>\n      <td>6.827280e+17</td>\n      <td>BTCtoUSD</td>\n      <td>Bitcoin to USD $</td>\n      <td>/BTCtoUSD/status/682727959866793985</td>\n      <td>2016-01-01 00:00:04+00</td>\n      <td>0</td>\n      <td>0</td>\n      <td>0</td>\n      <td>Current price: 431.05$ $BTCUSD $btc #bitcoin 2...</td>\n      <td>en</td>\n    </tr>\n    <tr>\n      <th>1</th>\n      <td>1</td>\n      <td>2016-01-01</td>\n      <td>6.827280e+17</td>\n      <td>BTCtoGBP</td>\n      <td>Bitcoin to GPB</td>\n      <td>/BTCtoGBP/status/682727962412716032</td>\n      <td>2016-01-01 00:00:05+00</td>\n      <td>0</td>\n      <td>0</td>\n      <td>0</td>\n      <td>Current price: 291.77£ $BTCGBP $btc #bitcoin 2...</td>\n      <td>en</td>\n    </tr>\n    <tr>\n      <th>2</th>\n      <td>2</td>\n      <td>2016-01-01</td>\n      <td>6.827280e+17</td>\n      <td>BTCtoEUR</td>\n      <td>Bitcoin to EUR €</td>\n      <td>/BTCtoEUR/status/682727961171247104</td>\n      <td>2016-01-01 00:00:05+00</td>\n      <td>0</td>\n      <td>0</td>\n      <td>0</td>\n      <td>Current price: 396.05€ $BTCEUR $btc #bitcoin 2...</td>\n      <td>en</td>\n    </tr>\n    <tr>\n      <th>3</th>\n      <td>3</td>\n      <td>2016-01-01</td>\n      <td>6.827282e+17</td>\n      <td>priceofreddcoin</td>\n      <td>Price Of Reddcoin</td>\n      <td>/priceofreddcoin/status/682728163860942849</td>\n      <td>2016-01-01 00:00:53+00</td>\n      <td>0</td>\n      <td>0</td>\n      <td>0</td>\n      <td>#RDD / #BTC on the exchanges:\\nCryptsy: 0.0000...</td>\n      <td>en</td>\n    </tr>\n    <tr>\n      <th>4</th>\n      <td>4</td>\n      <td>2016-01-01</td>\n      <td>6.827286e+17</td>\n      <td>TickerCrypto</td>\n      <td>Crypto Price Ticker</td>\n      <td>/TickerCrypto/status/682728580133064704</td>\n      <td>2016-01-01 00:02:32+00</td>\n      <td>0</td>\n      <td>0</td>\n      <td>0</td>\n      <td>#RDD / #BTC on the exchanges: Cryptsy: 0.00000...</td>\n      <td>en</td>\n    </tr>\n  </tbody>\n</table>\n</div>"
     },
     "execution_count": 16,
     "metadata": {},
     "output_type": "execute_result"
    }
   ],
   "source": [
    "import pandas as pd\n",
    "data = pd.read_csv(\"raw_data/TweetsBTC_16mil/\" + \"16_en.csv\", lineterminator='\\n')\n",
    "data.head()"
   ],
   "metadata": {
    "collapsed": false,
    "pycharm": {
     "name": "#%%\n"
    }
   }
  },
  {
   "cell_type": "code",
   "execution_count": 4,
   "outputs": [
    {
     "ename": "NameError",
     "evalue": "name 'data' is not defined",
     "output_type": "error",
     "traceback": [
      "\u001B[1;31m---------------------------------------------------------------------------\u001B[0m",
      "\u001B[1;31mNameError\u001B[0m                                 Traceback (most recent call last)",
      "\u001B[1;32m~\\AppData\\Local\\Temp/ipykernel_8028/205967170.py\u001B[0m in \u001B[0;36m<module>\u001B[1;34m\u001B[0m\n\u001B[1;32m----> 1\u001B[1;33m \u001B[0mdata\u001B[0m\u001B[1;33m.\u001B[0m\u001B[0mdropna\u001B[0m\u001B[1;33m(\u001B[0m\u001B[1;33m)\u001B[0m\u001B[1;33m\u001B[0m\u001B[1;33m\u001B[0m\u001B[0m\n\u001B[0m\u001B[0;32m      2\u001B[0m \u001B[0mdata\u001B[0m\u001B[1;33m.\u001B[0m\u001B[0mhead\u001B[0m\u001B[1;33m(\u001B[0m\u001B[1;33m)\u001B[0m\u001B[1;33m\u001B[0m\u001B[1;33m\u001B[0m\u001B[0m\n",
      "\u001B[1;31mNameError\u001B[0m: name 'data' is not defined"
     ]
    }
   ],
   "source": [
    "data.dropna()\n",
    "data.head()"
   ],
   "metadata": {
    "collapsed": false,
    "pycharm": {
     "name": "#%%\n"
    }
   }
  }
 ],
 "metadata": {
  "kernelspec": {
   "name": "pycharm-58ceeb16",
   "language": "python",
   "display_name": "PyCharm (PredictorApp)"
  },
  "language_info": {
   "codemirror_mode": {
    "name": "ipython",
    "version": 3
   },
   "file_extension": ".py",
   "mimetype": "text/x-python",
   "name": "python",
   "nbconvert_exporter": "python",
   "pygments_lexer": "ipython3",
   "version": "3.8.8"
  }
 },
 "nbformat": 4,
 "nbformat_minor": 1
}